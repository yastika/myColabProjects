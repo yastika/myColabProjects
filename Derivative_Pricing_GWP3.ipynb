{
  "nbformat": 4,
  "nbformat_minor": 0,
  "metadata": {
    "colab": {
      "provenance": [],
      "include_colab_link": true
    },
    "kernelspec": {
      "name": "python3",
      "display_name": "Python 3"
    },
    "language_info": {
      "name": "python"
    }
  },
  "cells": [
    {
      "cell_type": "markdown",
      "metadata": {
        "id": "view-in-github",
        "colab_type": "text"
      },
      "source": [
        "<a href=\"https://colab.research.google.com/github/yastika/myColabProjects/blob/main/Derivative_Pricing_GWP3.ipynb\" target=\"_parent\"><img src=\"https://colab.research.google.com/assets/colab-badge.svg\" alt=\"Open In Colab\"/></a>"
      ]
    },
    {
      "cell_type": "code",
      "execution_count": null,
      "metadata": {
        "id": "nPMgkaVR71iQ"
      },
      "outputs": [],
      "source": [
        "import matplotlib.pyplot as plt\n",
        "import numpy as np\n",
        "import scipy.stats as ss\n",
        "import pandas as pd"
      ]
    },
    {
      "cell_type": "markdown",
      "source": [
        "## **Step 1**"
      ],
      "metadata": {
        "id": "Ot6b5OXe8EDR"
      }
    },
    {
      "cell_type": "code",
      "source": [
        "S0 = 80\n",
        "r = 0.055\n",
        "sigma = 0.35\n",
        "T = 1/4 # 3 months"
      ],
      "metadata": {
        "id": "vV882JiO8cYR"
      },
      "execution_count": null,
      "outputs": []
    },
    {
      "cell_type": "markdown",
      "source": [
        "### Stochastic Volatility Modeler"
      ],
      "metadata": {
        "id": "KHI_ADsa8OsX"
      }
    },
    {
      "cell_type": "code",
      "source": [
        "v0 = 0.032\n",
        "kappa = 1.85\n",
        "theta = 0.045\n",
        "M=int(T * 255)\n",
        "Ite = 1000000\n",
        "dt = T/M"
      ],
      "metadata": {
        "id": "OlhNYIPd86mF"
      },
      "execution_count": null,
      "outputs": []
    },
    {
      "cell_type": "code",
      "source": [
        "def SDE_vol(v0, kappa, theta, sigma, T, M, Ite, rand, row, cho_matrix):\n",
        "    dt = T / M  # T = maturity, M = number of time steps\n",
        "    v = np.zeros((M + 1, Ite), dtype=float)\n",
        "    v[0] = v0\n",
        "    sdt = np.sqrt(dt)  # Sqrt of dt\n",
        "    for t in range(1, M + 1):\n",
        "        ran = np.dot(cho_matrix, rand[:, t])\n",
        "        v[t] = np.maximum(\n",
        "            0,\n",
        "            v[t - 1]\n",
        "            + kappa * (theta - v[t - 1]) * dt\n",
        "            + np.sqrt(v[t - 1]) * sigma * ran[row] * sdt,\n",
        "        )\n",
        "    return v"
      ],
      "metadata": {
        "id": "opX40scr9IF4"
      },
      "execution_count": null,
      "outputs": []
    },
    {
      "cell_type": "code",
      "source": [
        "def Heston_paths(S0, r, v, row, cho_matrix):\n",
        "    S = np.zeros((M + 1, Ite), dtype=float)\n",
        "    S[0] = S0\n",
        "    sdt = np.sqrt(dt)\n",
        "    for t in range(1, M + 1, 1):\n",
        "        ran = np.dot(cho_matrix, rand[:, t])\n",
        "        S[t] = S[t - 1] * np.exp((r - 0.5 * v[t]) * dt + np.sqrt(v[t]) * ran[row] * sdt)\n",
        "\n",
        "    return S"
      ],
      "metadata": {
        "id": "V2A4vcqh-c6F"
      },
      "execution_count": null,
      "outputs": []
    },
    {
      "cell_type": "code",
      "source": [
        "def random_number_gen(M, Ite):\n",
        "    rand = np.random.standard_normal((2, M + 1, Ite))\n",
        "    return rand"
      ],
      "metadata": {
        "id": "XfRrhFwm-r4X"
      },
      "execution_count": null,
      "outputs": []
    },
    {
      "cell_type": "code",
      "source": [
        "def cho_matrix_gen(rho):\n",
        "  # Covariance Matrix\n",
        "  covariance_matrix = np.zeros((2, 2), dtype=float)\n",
        "  covariance_matrix[0] = [1.0, rho]\n",
        "  covariance_matrix[1] = [rho, 1.0]\n",
        "  cho_matrix = np.linalg.cholesky(covariance_matrix)\n",
        "\n",
        "  return cho_matrix"
      ],
      "metadata": {
        "id": "2W3Yb68w_ej2"
      },
      "execution_count": null,
      "outputs": []
    },
    {
      "cell_type": "code",
      "source": [
        "def heston_call_put_mc(S, K, r, T, t, opttype):\n",
        "    payoff = np.zeros((M + 1, Ite), dtype=float)\n",
        "\n",
        "    if opttype == 'C':\n",
        "      payoff = np.maximum(0, S[-1, :] - K)\n",
        "\n",
        "    else:\n",
        "      payoff = np.maximum(0, K - S[-1, :])\n",
        "\n",
        "    average = np.mean(payoff)\n",
        "\n",
        "    return np.exp(-r * (T - t)) * average\n",
        "\n",
        "#def heston_put_mc(S, K, r, T, t):\n",
        "#    payoff = np.maximum(0, K - S[-1, :])\n",
        "\n",
        "#    average = np.mean(payoff)\n",
        "\n",
        "#    return np.exp(-r * (T - t)) * average*/"
      ],
      "metadata": {
        "id": "hpynpvoa-qs8"
      },
      "execution_count": null,
      "outputs": []
    },
    {
      "cell_type": "code",
      "source": [
        "# Generating random numbers from standard normal\n",
        "rand = random_number_gen(M, Ite)\n",
        "rho_1=-0.3\n",
        "rho_2=-0.7\n",
        "# Covariance Matrix\n",
        "cho_matrix_1 = cho_matrix_gen(rho_1)\n",
        "cho_matrix_2 = cho_matrix_gen(rho_2)"
      ],
      "metadata": {
        "id": "G2JZIiPi-wkc"
      },
      "execution_count": null,
      "outputs": []
    },
    {
      "cell_type": "code",
      "source": [
        "# Volatility process paths and Underlying price process paths when correlation is -0.3\n",
        "V_1 = SDE_vol(v0, kappa, theta, sigma, T, M, Ite, rand, 1, cho_matrix_1)\n",
        "S_1 = Heston_paths(S0, r, V_1, 0, cho_matrix_1)\n",
        "\n",
        "# Volatility process paths and Underlying price process paths when correlation is -0.7\n",
        "V_2 = SDE_vol(v0, kappa, theta, sigma, T, M, Ite, rand, 1, cho_matrix_2)\n",
        "S_2 = Heston_paths(S0, r, V_2, 0, cho_matrix_2)"
      ],
      "metadata": {
        "id": "xwL7ZN9j-ltq"
      },
      "execution_count": null,
      "outputs": []
    },
    {
      "cell_type": "code",
      "source": [
        "#print(S0)\n",
        "european_call_price_1 = heston_call_put_mc(S_1, S0, r, T, 0,'C')\n",
        "print(\"European Call Price under Heston (when correlation = -0.3): $\",np.round(european_call_price_1,2))\n",
        "european_put_price_1 = heston_call_put_mc(S_1, S0, r, T, 0,'P')\n",
        "print(\"European Put Price under Heston (when correlation = -0.3): $\",np.round(european_put_price_1,2))\n"
      ],
      "metadata": {
        "colab": {
          "base_uri": "https://localhost:8080/"
        },
        "id": "dK-IUEwgC1id",
        "outputId": "5fcd5fd9-22e6-4ead-e6f4-53c23ee1ff26"
      },
      "execution_count": null,
      "outputs": [
        {
          "output_type": "stream",
          "name": "stdout",
          "text": [
            "European Call Price under Heston (when correlation = -0.3): $ 2.87\n",
            "European Put Price under Heston (when correlation = -0.3): $ 2.82\n"
          ]
        }
      ]
    },
    {
      "cell_type": "code",
      "source": [
        "european_call_price_2 = heston_call_put_mc(S_2, S0, r, T, 0, 'C')\n",
        "print(\"European Call Price under Heston (when correlation = -0.7): $\",np.round(european_call_price_2,2))\n",
        "\n",
        "european_put_price_2 = heston_call_put_mc(S_2, S0, r, T, 0,'P')\n",
        "print(\"European Put Price under Heston (when correlation = -0.7): $\",np.round(european_put_price_2,2))"
      ],
      "metadata": {
        "colab": {
          "base_uri": "https://localhost:8080/"
        },
        "id": "qNe5Uhh0F2Lo",
        "outputId": "b0f71c9f-9f5a-40fd-b37f-8aea4bbc821e"
      },
      "execution_count": null,
      "outputs": [
        {
          "output_type": "stream",
          "name": "stdout",
          "text": [
            "European Call Price under Heston (when correlation = -0.7): $ 2.12\n",
            "European Put Price under Heston (when correlation = -0.7): $ 3.45\n"
          ]
        }
      ]
    },
    {
      "cell_type": "markdown",
      "source": [
        "Computing Delta and Gamma"
      ],
      "metadata": {
        "id": "N4uMQly5FQ80"
      }
    },
    {
      "cell_type": "code",
      "source": [
        "S0_up =100"
      ],
      "metadata": {
        "id": "fXaeekL7DrDQ"
      },
      "execution_count": null,
      "outputs": []
    },
    {
      "cell_type": "code",
      "source": [
        "# Volatility process paths and Underlying price process paths when correlation is -0.3\n",
        "#V_1_dash = SDE_vol(v0, kappa, theta, sigma, T, M, Ite, rand, 1, cho_matrix_1)\n",
        "S_1_dash = Heston_paths(S0_up, r, V_1, 0, cho_matrix_1)\n",
        "\n",
        "european_call_price = heston_call_put_mc(S_1_dash, S0, r, T, 0, 'C')\n",
        "print(\"ATM European Call Price under Heston when underlying stock price is $100 (when correlation = -0.3): $\",np.round(european_call_price,2))\n",
        "\n",
        "european_put_price = heston_call_put_mc(S_1_dash, S0, r, T, 0, 'P')\n",
        "print(\"ATM European Put Price under Heston when underlying stock price is $100 (when correlation = -0.3): $\",np.round(european_put_price,3))"
      ],
      "metadata": {
        "colab": {
          "base_uri": "https://localhost:8080/"
        },
        "id": "3trcMiivFiMZ",
        "outputId": "947af731-91c9-4bb7-d080-bf4d3dbc4623"
      },
      "execution_count": null,
      "outputs": [
        {
          "output_type": "stream",
          "name": "stdout",
          "text": [
            "ATM European Call Price under Heston when underlying stock price is $100 (when correlation = -0.3): $ 19.86\n",
            "ATM European Put Price under Heston when underlying stock price is $100 (when correlation = -0.3): $ 0.073\n"
          ]
        }
      ]
    },
    {
      "cell_type": "code",
      "source": [
        "dS =  S0 - S0_up\n",
        "delta_call_rho3 = (european_call_price_1-european_call_price)/dS\n",
        "delta_put_rho3 = (european_put_price_1-european_put_price)/dS\n",
        "print(\"Delta for ATM European Call option: {:.4f}\".format(delta_call_rho3))\n",
        "print(\"Delta for ATM European Put option: {:.4f}\".format(delta_put_rho3))"
      ],
      "metadata": {
        "colab": {
          "base_uri": "https://localhost:8080/"
        },
        "id": "85W1Im_nx7Lp",
        "outputId": "1f25f199-a5eb-4c05-bd0e-1a4f7d10bd4f"
      },
      "execution_count": null,
      "outputs": [
        {
          "output_type": "stream",
          "name": "stdout",
          "text": [
            "Delta for ATM European Call option: 0.8494\n",
            "Delta for ATM European Put option: -0.1375\n"
          ]
        }
      ]
    },
    {
      "cell_type": "code",
      "source": [
        "# Volatility process paths and Underlying price process paths when correlation is -0.7\n",
        "#V_2_dash = SDE_vol(v0, kappa, theta, sigma, T, M, Ite, rand, 1, cho_matrix_2)\n",
        "S_2_dash = Heston_paths(S0_up, r, V_2, 0, cho_matrix_2)\n",
        "\n",
        "european_call_price_rho7 = heston_call_put_mc(S_2_dash, S0, r, T, 0, 'C')\n",
        "print(\"ATM European Call Price under Heston when underlying stock price is $100 (when correlation = -0.7): $\",np.round(european_call_price_rho7,2))\n",
        "\n",
        "european_put_price_rho7 = heston_call_put_mc(S_2_dash, S0, r, T, 0, 'P')\n",
        "print(\"ATM European Put Price under Heston when underlying stock price is $100 (when correlation = -0.7): $\",np.round(european_put_price_rho7,2))"
      ],
      "metadata": {
        "colab": {
          "base_uri": "https://localhost:8080/"
        },
        "id": "4tKs3M3Q1pEG",
        "outputId": "b77fe263-2c0a-4b0b-ce7a-c12bfcf0bd59"
      },
      "execution_count": null,
      "outputs": [
        {
          "output_type": "stream",
          "name": "stdout",
          "text": [
            "ATM European Call Price under Heston when underlying stock price is $100 (when correlation = -0.7): $ 18.22\n",
            "ATM European Put Price under Heston when underlying stock price is $100 (when correlation = -0.7): $ 0.16\n"
          ]
        }
      ]
    },
    {
      "cell_type": "code",
      "source": [
        "delta_call_rho7 = (european_call_price_2 - european_call_price_rho7)/dS\n",
        "delta_put_rho7 = (european_put_price_2 - european_put_price_rho7)/dS\n",
        "print(\"Delta for ATM European Call option: {:.4f}\".format(delta_call_rho7))\n",
        "print(\"Delta for ATM European Put option: {:.4f}\".format(delta_put_rho7))"
      ],
      "metadata": {
        "colab": {
          "base_uri": "https://localhost:8080/"
        },
        "id": "LdPEU68OVxJ3",
        "outputId": "340443d0-9573-4c44-8bf6-f3294631e21d"
      },
      "execution_count": null,
      "outputs": [
        {
          "output_type": "stream",
          "name": "stdout",
          "text": [
            "Delta for ATM European Call option: 0.8052\n",
            "Delta for ATM European Put option: -0.1645\n"
          ]
        }
      ]
    },
    {
      "cell_type": "code",
      "source": [
        "S0_up_dash = 110\n",
        "dS0 = S0 - S0_up\n",
        "dS1 = S0_up - S0_up_dash\n",
        "\n",
        "dS2 = dS0 - dS1"
      ],
      "metadata": {
        "id": "ozXR9143Sp03"
      },
      "execution_count": null,
      "outputs": []
    },
    {
      "cell_type": "code",
      "source": [
        "#Gamma for correlation -0.3\n",
        "S_3_dash = Heston_paths(S0_up_dash, r, V_1, 0, cho_matrix_1)\n",
        "\n",
        "euro_call_price_1 = heston_call_put_mc(S_3_dash, S0, r, T, 0, 'C')\n",
        "print(\"ATM European Call Price under Heston when underlying stock price is $110 (when correlation = -0.3): $\",np.round(euro_call_price_1,2))\n",
        "euro_put_price_1 = heston_call_put_mc(S_3_dash, S0, r, T, 0, 'P')\n",
        "print(\"ATM European Put Price under Heston when underlying stock price is $110 (when correlation = -0.3): $\",np.round(euro_put_price_1,3))\n",
        "\n",
        "delta_call_rho3_2 = (european_call_price - euro_call_price_1) / (S0_up - S0_up_dash)\n",
        "delta_put_rho3_2 = (european_put_price - euro_put_price_1) / (S0_up - S0_up_dash)\n",
        "\n",
        "#print('Call ', delta_call_rho3_2)\n",
        "#print('Put ',delta_put_rho3_2)\n",
        "\n",
        "#print('call 1 ', delta_call_rho3)\n",
        "#print('put 1 ',delta_put_rho3)\n",
        "\n",
        "gamma_call_rho3 = (delta_call_rho3 - delta_call_rho3_2) / (dS2)\n",
        "gamma_put_rho3 = (delta_put_rho3 - delta_put_rho3_2) / (dS2)\n",
        "\n",
        "print(\"Gamma for ATM European call (when correlation = -0.3): {:.4f}\".format(gamma_call_rho3))\n",
        "print(\"Gamma for ATM European put (when correlation = -0.3): {:.4f}\".format(gamma_put_rho3))"
      ],
      "metadata": {
        "id": "PzJL3NjqSth5",
        "colab": {
          "base_uri": "https://localhost:8080/"
        },
        "outputId": "73644856-3cf5-4e58-bb40-0a1a35177f90"
      },
      "execution_count": null,
      "outputs": [
        {
          "output_type": "stream",
          "name": "stdout",
          "text": [
            "ATM European Call Price under Heston when underlying stock price is $110 (when correlation = -0.3): $ 29.66\n",
            "ATM European Put Price under Heston when underlying stock price is $110 (when correlation = -0.3): $ 0.011\n",
            "Gamma for ATM European call (when correlation = -0.3): 0.0131\n",
            "Gamma for ATM European put (when correlation = -0.3): 0.0131\n"
          ]
        }
      ]
    },
    {
      "cell_type": "code",
      "source": [
        "#Gamma for correlation -0.7\n",
        "S_4_dash = Heston_paths(S0_up_dash, r, V_2, 0, cho_matrix_2)\n",
        "\n",
        "euro_call_price_2 = heston_call_put_mc(S_3_dash, S0, r, T, 0, 'C')\n",
        "print(\"ATM European Call Price under Heston when underlying stock price is $110 (when correlation = -0.7): $\",np.round(euro_call_price_1,2))\n",
        "euro_put_price_2 = heston_call_put_mc(S_3_dash, S0, r, T, 0, 'P')\n",
        "print(\"ATM European Put Price under Heston when underlying stock price is $110 (when correlation = -0.7): $\",np.round(euro_put_price_1,3))\n",
        "\n",
        "delta_call_rho7_2 = (european_call_price_rho7 - euro_call_price_2) / (S0_up - S0_up_dash)\n",
        "delta_put_rho7_2 = (european_put_price_rho7 - euro_put_price_2) / (S0_up - S0_up_dash)\n",
        "\n",
        "#print('Call ', delta_call_rho3_2)\n",
        "#print('Put ',delta_put_rho3_2)\n",
        "\n",
        "#print('call 1 ', delta_call_rho3)\n",
        "#print('put 1 ',delta_put_rho3)\n",
        "\n",
        "gamma_call_rho7 = (delta_call_rho7 - delta_call_rho7_2) / (dS2)\n",
        "gamma_put_rho7 = (delta_put_rho7 - delta_put_rho7_2) / (dS2)\n",
        "\n",
        "print(\"Gamma for ATM European call (when correlation = -0.7): {:.4f}\".format(gamma_call_rho7))\n",
        "print(\"Gamma for ATM European put (when correlation = -0.7): {:.4f}\".format(gamma_put_rho7))"
      ],
      "metadata": {
        "colab": {
          "base_uri": "https://localhost:8080/"
        },
        "id": "0CzI86PIc92M",
        "outputId": "8a765be4-8919-4d18-cc4b-6dce2e2c4197"
      },
      "execution_count": null,
      "outputs": [
        {
          "output_type": "stream",
          "name": "stdout",
          "text": [
            "ATM European Call Price under Heston when underlying stock price is $110 (when correlation = -0.7): $ 29.66\n",
            "ATM European Put Price under Heston when underlying stock price is $110 (when correlation = -0.7): $ 0.011\n",
            "Gamma for ATM European call (when correlation = -0.7): 0.0339\n",
            "Gamma for ATM European put (when correlation = -0.7): 0.0150\n"
          ]
        }
      ]
    },
    {
      "cell_type": "code",
      "source": [
        "data_options = {'Price (when corr = -0.3) ':['${:.2f}'.format(european_call_price_1), '${:.2f}'.format(european_put_price_1),],\n",
        "                     'Price (when corr = -0.7)':['${:.2f}'.format(european_call_price_2), '${:.2f}'.format(european_put_price_2,2)],\n",
        "                     'Delta (-0.3)':[round(delta_call_rho3,4), round(delta_put_rho3,4)],\n",
        "                     'Gamma (-0.3)':[round(gamma_call_rho3,4), round(gamma_put_rho3,4)],\n",
        "                     'Delta (-0.7)':[round(delta_call_rho7,4), round(delta_put_rho7,4)],\n",
        "                     'Gamma (-0.7)':[round(gamma_call_rho7,4), round(gamma_put_rho7,4)]}\n",
        "inx  = [\"European Call\", \"European Put\"]\n",
        "pd.DataFrame(data_options, index = inx)"
      ],
      "metadata": {
        "colab": {
          "base_uri": "https://localhost:8080/",
          "height": 112
        },
        "id": "beq-QGe_a94R",
        "outputId": "e700f952-8d52-44cc-b52c-c0ee0a4b2686"
      },
      "execution_count": null,
      "outputs": [
        {
          "output_type": "execute_result",
          "data": {
            "text/plain": [
              "              Price (when corr = -0.3)  Price (when corr = -0.7)  \\\n",
              "European Call                     $2.87                    $2.12   \n",
              "European Put                      $2.82                    $3.45   \n",
              "\n",
              "               Delta (-0.3)  Gamma (-0.3)  Delta (-0.7)  Gamma (-0.7)  \n",
              "European Call        0.8494        0.0131        0.8052        0.0339  \n",
              "European Put        -0.1375        0.0131       -0.1645        0.0150  "
            ],
            "text/html": [
              "\n",
              "  <div id=\"df-59c7199f-d2d8-494f-8531-106f8ae1fc04\" class=\"colab-df-container\">\n",
              "    <div>\n",
              "<style scoped>\n",
              "    .dataframe tbody tr th:only-of-type {\n",
              "        vertical-align: middle;\n",
              "    }\n",
              "\n",
              "    .dataframe tbody tr th {\n",
              "        vertical-align: top;\n",
              "    }\n",
              "\n",
              "    .dataframe thead th {\n",
              "        text-align: right;\n",
              "    }\n",
              "</style>\n",
              "<table border=\"1\" class=\"dataframe\">\n",
              "  <thead>\n",
              "    <tr style=\"text-align: right;\">\n",
              "      <th></th>\n",
              "      <th>Price (when corr = -0.3)</th>\n",
              "      <th>Price (when corr = -0.7)</th>\n",
              "      <th>Delta (-0.3)</th>\n",
              "      <th>Gamma (-0.3)</th>\n",
              "      <th>Delta (-0.7)</th>\n",
              "      <th>Gamma (-0.7)</th>\n",
              "    </tr>\n",
              "  </thead>\n",
              "  <tbody>\n",
              "    <tr>\n",
              "      <th>European Call</th>\n",
              "      <td>$2.87</td>\n",
              "      <td>$2.12</td>\n",
              "      <td>0.8494</td>\n",
              "      <td>0.0131</td>\n",
              "      <td>0.8052</td>\n",
              "      <td>0.0339</td>\n",
              "    </tr>\n",
              "    <tr>\n",
              "      <th>European Put</th>\n",
              "      <td>$2.82</td>\n",
              "      <td>$3.45</td>\n",
              "      <td>-0.1375</td>\n",
              "      <td>0.0131</td>\n",
              "      <td>-0.1645</td>\n",
              "      <td>0.0150</td>\n",
              "    </tr>\n",
              "  </tbody>\n",
              "</table>\n",
              "</div>\n",
              "    <div class=\"colab-df-buttons\">\n",
              "\n",
              "  <div class=\"colab-df-container\">\n",
              "    <button class=\"colab-df-convert\" onclick=\"convertToInteractive('df-59c7199f-d2d8-494f-8531-106f8ae1fc04')\"\n",
              "            title=\"Convert this dataframe to an interactive table.\"\n",
              "            style=\"display:none;\">\n",
              "\n",
              "  <svg xmlns=\"http://www.w3.org/2000/svg\" height=\"24px\" viewBox=\"0 -960 960 960\">\n",
              "    <path d=\"M120-120v-720h720v720H120Zm60-500h600v-160H180v160Zm220 220h160v-160H400v160Zm0 220h160v-160H400v160ZM180-400h160v-160H180v160Zm440 0h160v-160H620v160ZM180-180h160v-160H180v160Zm440 0h160v-160H620v160Z\"/>\n",
              "  </svg>\n",
              "    </button>\n",
              "\n",
              "  <style>\n",
              "    .colab-df-container {\n",
              "      display:flex;\n",
              "      gap: 12px;\n",
              "    }\n",
              "\n",
              "    .colab-df-convert {\n",
              "      background-color: #E8F0FE;\n",
              "      border: none;\n",
              "      border-radius: 50%;\n",
              "      cursor: pointer;\n",
              "      display: none;\n",
              "      fill: #1967D2;\n",
              "      height: 32px;\n",
              "      padding: 0 0 0 0;\n",
              "      width: 32px;\n",
              "    }\n",
              "\n",
              "    .colab-df-convert:hover {\n",
              "      background-color: #E2EBFA;\n",
              "      box-shadow: 0px 1px 2px rgba(60, 64, 67, 0.3), 0px 1px 3px 1px rgba(60, 64, 67, 0.15);\n",
              "      fill: #174EA6;\n",
              "    }\n",
              "\n",
              "    .colab-df-buttons div {\n",
              "      margin-bottom: 4px;\n",
              "    }\n",
              "\n",
              "    [theme=dark] .colab-df-convert {\n",
              "      background-color: #3B4455;\n",
              "      fill: #D2E3FC;\n",
              "    }\n",
              "\n",
              "    [theme=dark] .colab-df-convert:hover {\n",
              "      background-color: #434B5C;\n",
              "      box-shadow: 0px 1px 3px 1px rgba(0, 0, 0, 0.15);\n",
              "      filter: drop-shadow(0px 1px 2px rgba(0, 0, 0, 0.3));\n",
              "      fill: #FFFFFF;\n",
              "    }\n",
              "  </style>\n",
              "\n",
              "    <script>\n",
              "      const buttonEl =\n",
              "        document.querySelector('#df-59c7199f-d2d8-494f-8531-106f8ae1fc04 button.colab-df-convert');\n",
              "      buttonEl.style.display =\n",
              "        google.colab.kernel.accessAllowed ? 'block' : 'none';\n",
              "\n",
              "      async function convertToInteractive(key) {\n",
              "        const element = document.querySelector('#df-59c7199f-d2d8-494f-8531-106f8ae1fc04');\n",
              "        const dataTable =\n",
              "          await google.colab.kernel.invokeFunction('convertToInteractive',\n",
              "                                                    [key], {});\n",
              "        if (!dataTable) return;\n",
              "\n",
              "        const docLinkHtml = 'Like what you see? Visit the ' +\n",
              "          '<a target=\"_blank\" href=https://colab.research.google.com/notebooks/data_table.ipynb>data table notebook</a>'\n",
              "          + ' to learn more about interactive tables.';\n",
              "        element.innerHTML = '';\n",
              "        dataTable['output_type'] = 'display_data';\n",
              "        await google.colab.output.renderOutput(dataTable, element);\n",
              "        const docLink = document.createElement('div');\n",
              "        docLink.innerHTML = docLinkHtml;\n",
              "        element.appendChild(docLink);\n",
              "      }\n",
              "    </script>\n",
              "  </div>\n",
              "\n",
              "\n",
              "<div id=\"df-7ff9125e-f83b-4aea-9e1e-4b0aa69ede88\">\n",
              "  <button class=\"colab-df-quickchart\" onclick=\"quickchart('df-7ff9125e-f83b-4aea-9e1e-4b0aa69ede88')\"\n",
              "            title=\"Suggest charts\"\n",
              "            style=\"display:none;\">\n",
              "\n",
              "<svg xmlns=\"http://www.w3.org/2000/svg\" height=\"24px\"viewBox=\"0 0 24 24\"\n",
              "     width=\"24px\">\n",
              "    <g>\n",
              "        <path d=\"M19 3H5c-1.1 0-2 .9-2 2v14c0 1.1.9 2 2 2h14c1.1 0 2-.9 2-2V5c0-1.1-.9-2-2-2zM9 17H7v-7h2v7zm4 0h-2V7h2v10zm4 0h-2v-4h2v4z\"/>\n",
              "    </g>\n",
              "</svg>\n",
              "  </button>\n",
              "\n",
              "<style>\n",
              "  .colab-df-quickchart {\n",
              "      --bg-color: #E8F0FE;\n",
              "      --fill-color: #1967D2;\n",
              "      --hover-bg-color: #E2EBFA;\n",
              "      --hover-fill-color: #174EA6;\n",
              "      --disabled-fill-color: #AAA;\n",
              "      --disabled-bg-color: #DDD;\n",
              "  }\n",
              "\n",
              "  [theme=dark] .colab-df-quickchart {\n",
              "      --bg-color: #3B4455;\n",
              "      --fill-color: #D2E3FC;\n",
              "      --hover-bg-color: #434B5C;\n",
              "      --hover-fill-color: #FFFFFF;\n",
              "      --disabled-bg-color: #3B4455;\n",
              "      --disabled-fill-color: #666;\n",
              "  }\n",
              "\n",
              "  .colab-df-quickchart {\n",
              "    background-color: var(--bg-color);\n",
              "    border: none;\n",
              "    border-radius: 50%;\n",
              "    cursor: pointer;\n",
              "    display: none;\n",
              "    fill: var(--fill-color);\n",
              "    height: 32px;\n",
              "    padding: 0;\n",
              "    width: 32px;\n",
              "  }\n",
              "\n",
              "  .colab-df-quickchart:hover {\n",
              "    background-color: var(--hover-bg-color);\n",
              "    box-shadow: 0 1px 2px rgba(60, 64, 67, 0.3), 0 1px 3px 1px rgba(60, 64, 67, 0.15);\n",
              "    fill: var(--button-hover-fill-color);\n",
              "  }\n",
              "\n",
              "  .colab-df-quickchart-complete:disabled,\n",
              "  .colab-df-quickchart-complete:disabled:hover {\n",
              "    background-color: var(--disabled-bg-color);\n",
              "    fill: var(--disabled-fill-color);\n",
              "    box-shadow: none;\n",
              "  }\n",
              "\n",
              "  .colab-df-spinner {\n",
              "    border: 2px solid var(--fill-color);\n",
              "    border-color: transparent;\n",
              "    border-bottom-color: var(--fill-color);\n",
              "    animation:\n",
              "      spin 1s steps(1) infinite;\n",
              "  }\n",
              "\n",
              "  @keyframes spin {\n",
              "    0% {\n",
              "      border-color: transparent;\n",
              "      border-bottom-color: var(--fill-color);\n",
              "      border-left-color: var(--fill-color);\n",
              "    }\n",
              "    20% {\n",
              "      border-color: transparent;\n",
              "      border-left-color: var(--fill-color);\n",
              "      border-top-color: var(--fill-color);\n",
              "    }\n",
              "    30% {\n",
              "      border-color: transparent;\n",
              "      border-left-color: var(--fill-color);\n",
              "      border-top-color: var(--fill-color);\n",
              "      border-right-color: var(--fill-color);\n",
              "    }\n",
              "    40% {\n",
              "      border-color: transparent;\n",
              "      border-right-color: var(--fill-color);\n",
              "      border-top-color: var(--fill-color);\n",
              "    }\n",
              "    60% {\n",
              "      border-color: transparent;\n",
              "      border-right-color: var(--fill-color);\n",
              "    }\n",
              "    80% {\n",
              "      border-color: transparent;\n",
              "      border-right-color: var(--fill-color);\n",
              "      border-bottom-color: var(--fill-color);\n",
              "    }\n",
              "    90% {\n",
              "      border-color: transparent;\n",
              "      border-bottom-color: var(--fill-color);\n",
              "    }\n",
              "  }\n",
              "</style>\n",
              "\n",
              "  <script>\n",
              "    async function quickchart(key) {\n",
              "      const quickchartButtonEl =\n",
              "        document.querySelector('#' + key + ' button');\n",
              "      quickchartButtonEl.disabled = true;  // To prevent multiple clicks.\n",
              "      quickchartButtonEl.classList.add('colab-df-spinner');\n",
              "      try {\n",
              "        const charts = await google.colab.kernel.invokeFunction(\n",
              "            'suggestCharts', [key], {});\n",
              "      } catch (error) {\n",
              "        console.error('Error during call to suggestCharts:', error);\n",
              "      }\n",
              "      quickchartButtonEl.classList.remove('colab-df-spinner');\n",
              "      quickchartButtonEl.classList.add('colab-df-quickchart-complete');\n",
              "    }\n",
              "    (() => {\n",
              "      let quickchartButtonEl =\n",
              "        document.querySelector('#df-7ff9125e-f83b-4aea-9e1e-4b0aa69ede88 button');\n",
              "      quickchartButtonEl.style.display =\n",
              "        google.colab.kernel.accessAllowed ? 'block' : 'none';\n",
              "    })();\n",
              "  </script>\n",
              "</div>\n",
              "\n",
              "    </div>\n",
              "  </div>\n"
            ],
            "application/vnd.google.colaboratory.intrinsic+json": {
              "type": "dataframe",
              "summary": "{\n  \"name\": \"pd\",\n  \"rows\": 2,\n  \"fields\": [\n    {\n      \"column\": \"Price (when corr = -0.3) \",\n      \"properties\": {\n        \"dtype\": \"string\",\n        \"num_unique_values\": 2,\n        \"samples\": [\n          \"$2.82\",\n          \"$2.87\"\n        ],\n        \"semantic_type\": \"\",\n        \"description\": \"\"\n      }\n    },\n    {\n      \"column\": \"Price (when corr = -0.7)\",\n      \"properties\": {\n        \"dtype\": \"string\",\n        \"num_unique_values\": 2,\n        \"samples\": [\n          \"$3.45\",\n          \"$2.12\"\n        ],\n        \"semantic_type\": \"\",\n        \"description\": \"\"\n      }\n    },\n    {\n      \"column\": \"Delta (-0.3)\",\n      \"properties\": {\n        \"dtype\": \"number\",\n        \"std\": 0.6978436823530038,\n        \"min\": -0.1375,\n        \"max\": 0.8494,\n        \"num_unique_values\": 2,\n        \"samples\": [\n          -0.1375,\n          0.8494\n        ],\n        \"semantic_type\": \"\",\n        \"description\": \"\"\n      }\n    },\n    {\n      \"column\": \"Gamma (-0.3)\",\n      \"properties\": {\n        \"dtype\": \"number\",\n        \"std\": 0.0,\n        \"min\": 0.0131,\n        \"max\": 0.0131,\n        \"num_unique_values\": 1,\n        \"samples\": [\n          0.0131\n        ],\n        \"semantic_type\": \"\",\n        \"description\": \"\"\n      }\n    },\n    {\n      \"column\": \"Delta (-0.7)\",\n      \"properties\": {\n        \"dtype\": \"number\",\n        \"std\": 0.6856814457165952,\n        \"min\": -0.1645,\n        \"max\": 0.8052,\n        \"num_unique_values\": 2,\n        \"samples\": [\n          -0.1645\n        ],\n        \"semantic_type\": \"\",\n        \"description\": \"\"\n      }\n    },\n    {\n      \"column\": \"Gamma (-0.7)\",\n      \"properties\": {\n        \"dtype\": \"number\",\n        \"std\": 0.013364318164425749,\n        \"min\": 0.015,\n        \"max\": 0.0339,\n        \"num_unique_values\": 2,\n        \"samples\": [\n          0.015\n        ],\n        \"semantic_type\": \"\",\n        \"description\": \"\"\n      }\n    }\n  ]\n}"
            }
          },
          "metadata": {},
          "execution_count": 73
        }
      ]
    },
    {
      "cell_type": "markdown",
      "source": [
        "Validating Put-Call Parity"
      ],
      "metadata": {
        "id": "CiXJ1oygcJIr"
      }
    },
    {
      "cell_type": "code",
      "source": [
        "#When Correlation is -0.3\n",
        "# Put-call parity under HS method:\n",
        "#print(european_call_price_1, european_put_price_1)\n",
        "left_side = european_call_price_1 + S0 * np.exp(-r * T)\n",
        "print(S0 * np.exp(-r * T))\n",
        "print(f\"left_side: {round(left_side,2)}\")\n",
        "right_side = european_put_price_1 + S0\n",
        "print(f\"right_side: {round(right_side,2)}\")\n",
        "\n",
        "if round(left_side,2) == round(right_side,2):\n",
        "  print(\"Put-call parity holds under Heston method.\")\n",
        "else:\n",
        "  print(\"Put-call parity does not hold under Heston method.\")"
      ],
      "metadata": {
        "colab": {
          "base_uri": "https://localhost:8080/"
        },
        "id": "sPNFRpo3b7J1",
        "outputId": "1aba4cf2-492c-47c2-ab59-420fa36c3b7a"
      },
      "execution_count": null,
      "outputs": [
        {
          "output_type": "stream",
          "name": "stdout",
          "text": [
            "78.90752795736353\n",
            "left_side: 81.78\n",
            "right_side: 82.83\n",
            "Put-call parity does not hold under Heston method.\n"
          ]
        }
      ]
    },
    {
      "cell_type": "markdown",
      "source": [
        "### Jump Modeler"
      ],
      "metadata": {
        "id": "joMDodkyWCmP"
      }
    },
    {
      "cell_type": "code",
      "source": [
        "S0 = 80\n",
        "K = S0\n",
        "\n",
        "r = 0.055\n",
        "sigma = 0.35\n",
        "T = 3/12 # 3 months\n",
        "M = 90\n",
        "dt = T / M\n",
        "\n",
        "lambda_8 = 0.75\n",
        "lambda_9 = 0.25\n",
        "\n",
        "mu = -0.5\n",
        "delta = 0.22\n",
        "iter = 10000"
      ],
      "metadata": {
        "id": "ZTH_EolUkS9q"
      },
      "execution_count": null,
      "outputs": []
    },
    {
      "cell_type": "code",
      "source": [
        "def european_merton_mc(S0, K, r, sigma, T, M, Iter, lamb, mu, delta, opttype):\n",
        "\n",
        "    dt = T / M\n",
        "    SM = np.zeros((M+1, Iter))\n",
        "    SM[0] = S0\n",
        "\n",
        "    rj = lamb * (np.exp(mu + 0.5 * delta**2) - 1)\n",
        "\n",
        "    # Random numbers\n",
        "    z1 = np.random.standard_normal((M + 1, Iter))\n",
        "    z2 = np.random.standard_normal((M + 1, Iter))\n",
        "    y = np.random.poisson(lamb * dt, (M + 1, Iter))\n",
        "\n",
        "    # Simulating prices\n",
        "    for t in range(1, M + 1):\n",
        "        SM[t] = SM[t - 1] * (\n",
        "            np.exp((r - rj - 0.5 * sigma**2) * dt + sigma * np.sqrt(dt) * z1[t])\n",
        "            + (np.exp(mu + delta * z2[t]) - 1) * y[t]\n",
        "        )\n",
        "        SM[t] = np.maximum(SM[t], 0.00001)\n",
        "\n",
        "    # Option prices\n",
        "    if opttype == 'call':\n",
        "        arr = SM[-1] - K\n",
        "    elif opttype == 'put':\n",
        "        arr = K - SM[-1]\n",
        "    else:\n",
        "        raise ValueError(f'Unknown option type {opttype}')\n",
        "\n",
        "    ST = np.where(arr < 0, 0, arr).mean() * np.exp(-r * T)\n",
        "    return ST"
      ],
      "metadata": {
        "id": "c4k0sJZVWFRf"
      },
      "execution_count": null,
      "outputs": []
    },
    {
      "cell_type": "markdown",
      "source": [
        "Pricing an ATM european call and put options with jump intensity parameter equal to 0.75"
      ],
      "metadata": {
        "id": "Z5PKkVWtWMsf"
      }
    },
    {
      "cell_type": "code",
      "source": [
        "euro_call_merton_mc8 = european_merton_mc(S0, K, r, sigma, T, M, iter, lambda_8, mu, delta, \"call\")\n",
        "euro_put_merton_mc8 = european_merton_mc(S0, K, r, sigma, T, M, iter, lambda_8, mu, delta, \"put\")\n",
        "print(\"European call ATM option price using Merton model: {}\".format(round(euro_call_merton_mc8,2)))\n",
        "print(\"European put ATM option price using Merton model: {}\".format(round(euro_put_merton_mc8,2)))"
      ],
      "metadata": {
        "colab": {
          "base_uri": "https://localhost:8080/"
        },
        "id": "gOTX1uFhWFTv",
        "outputId": "a70d1853-da84-4047-bf42-af7c2dc151c0"
      },
      "execution_count": null,
      "outputs": [
        {
          "output_type": "stream",
          "name": "stdout",
          "text": [
            "European call ATM option price using Merton model: 8.22\n",
            "European put ATM option price using Merton model: 7.09\n"
          ]
        }
      ]
    },
    {
      "cell_type": "code",
      "source": [],
      "metadata": {
        "id": "Wt_J9zJDWFWP"
      },
      "execution_count": null,
      "outputs": []
    },
    {
      "cell_type": "markdown",
      "source": [
        "Pricing an ATM european call and put options with jump intensity parameter equal to 0.25"
      ],
      "metadata": {
        "id": "sdhE74gBWRqO"
      }
    },
    {
      "cell_type": "code",
      "source": [
        "euro_call_merton_mc9 = european_merton_mc(S0, K, r, sigma, T, M, iter, lambda_9, mu, delta, \"call\")\n",
        "euro_put_merton_mc9 = european_merton_mc(S0, K, r, sigma, T, M, iter, lambda_9, mu, delta, \"put\")\n",
        "print(\"European call ATM option price using Merton model: {}\".format(round(euro_call_merton_mc9,2)))\n",
        "print(\"European put ATM option price using Merton model: {}\".format(round(euro_put_merton_mc9,2)))"
      ],
      "metadata": {
        "colab": {
          "base_uri": "https://localhost:8080/"
        },
        "id": "9X1cIMyvWFY5",
        "outputId": "3329ac63-45b0-44f8-8fc1-bbd7fad8a57e"
      },
      "execution_count": null,
      "outputs": [
        {
          "output_type": "stream",
          "name": "stdout",
          "text": [
            "European call ATM option price using Merton model: 7.02\n",
            "European put ATM option price using Merton model: 5.87\n"
          ]
        }
      ]
    },
    {
      "cell_type": "markdown",
      "source": [
        "Calculation delta and gamma for options"
      ],
      "metadata": {
        "id": "iNSHmkzgWVdO"
      }
    },
    {
      "cell_type": "code",
      "source": [
        "# Stock price changes\n",
        "stock_price_delta = 10\n",
        "S1 = S0 + stock_price_delta\n",
        "dS = S1 - S0\n",
        "\n",
        "# Calcalation of deltas for put and call with lambda 0.75\n",
        "euro_call_merton_mc8_0 = european_merton_mc(S0, S0, r, sigma, T, M, iter, lambda_8, mu, delta, \"call\")\n",
        "euro_call_merton_mc8_1 = european_merton_mc(S1, K, r, sigma, T, M, iter, lambda_8, mu, delta, \"call\")\n",
        "delta_call_8 = (euro_call_merton_mc8_1 - euro_call_merton_mc8_0) / dS\n",
        "\n",
        "euro_put_merton_mc8_0 = european_merton_mc(S0, S0, r, sigma, T, M, iter, lambda_8, mu, delta, \"put\")\n",
        "euro_put_merton_mc8_1 = european_merton_mc(S1, K, r, sigma, T, M, iter, lambda_8, mu, delta, \"put\")\n",
        "delta_put_8 = (euro_put_merton_mc8_1 - euro_put_merton_mc8_0) / dS\n",
        "\n",
        "print(f\"Delta for ATM European Call option with lambda 0.75 (Merton model): {round(delta_call_8,4)}\")\n",
        "print(f\"Delta for ATM European Put option with lambda 0.75 (Merton model): {round(delta_put_8,4)}\")\n",
        "\n",
        "# Calcalation of deltas for put and call with lambda 0.25\n",
        "euro_call_merton_mc9_0 = european_merton_mc(S0, S0, r, sigma, T, M, iter, lambda_9, mu, delta, \"call\")\n",
        "euro_call_merton_mc9_1 = european_merton_mc(S1, K, r, sigma, T, M, iter, lambda_9, mu, delta, \"call\")\n",
        "delta_call_9 = (euro_call_merton_mc8_1 - euro_call_merton_mc8_0) / dS\n",
        "\n",
        "euro_put_merton_mc9_0 = european_merton_mc(S0, S0, r, sigma, T, M, iter, lambda_9, mu, delta, \"put\")\n",
        "euro_put_merton_mc9_1 = european_merton_mc(S1, K, r, sigma, T, M, iter, lambda_9, mu, delta, \"put\")\n",
        "delta_put_9 = (euro_put_merton_mc8_1 - euro_put_merton_mc8_0) / dS\n",
        "\n",
        "print(\"-------------------------------------------------------\")\n",
        "print(f\"Delta for ATM European Call option with lambda 0.25 (Merton model): {round(delta_call_9,4)}\")\n",
        "print(f\"Delta for ATM European Put option with lambda 0.25 (Merton model): {round(delta_put_9,4)}\")"
      ],
      "metadata": {
        "colab": {
          "base_uri": "https://localhost:8080/"
        },
        "id": "ZjJvQhYjWFd8",
        "outputId": "a05e13c1-1b54-41e2-a0b5-bc4ed1e9ad7e"
      },
      "execution_count": null,
      "outputs": [
        {
          "output_type": "stream",
          "name": "stdout",
          "text": [
            "Delta for ATM European Call option with lambda 0.75 (Merton model): 0.7454\n",
            "Delta for ATM European Put option with lambda 0.75 (Merton model): -0.2485\n",
            "-------------------------------------------------------\n",
            "Delta for ATM European Call option with lambda 0.25 (Merton model): 0.7454\n",
            "Delta for ATM European Put option with lambda 0.25 (Merton model): -0.2485\n"
          ]
        }
      ]
    },
    {
      "cell_type": "code",
      "source": [
        "# Stock price changes\n",
        "stock_price_delta0 = 10\n",
        "stock_price_delta1 = 11\n",
        "S1 = S0 + stock_price_delta0\n",
        "S2 = S0 + stock_price_delta1\n",
        "dS0 = S1 - S0\n",
        "dS1 = S2 - S1\n",
        "d2S = dS1 - dS0\n",
        "\n",
        "\n",
        "# Calcalation of gammas for put and call with lambda 0.75\n",
        "euro_call_merton_mc8_0 = european_merton_mc(S0, K, r, sigma, T, M, iter, lambda_8, mu, delta, \"call\")\n",
        "euro_call_merton_mc8_1 = european_merton_mc(S1, K, r, sigma, T, M, iter, lambda_8, mu, delta, \"call\")\n",
        "euro_call_merton_mc8_2 = european_merton_mc(S2, K, r, sigma, T, M, iter, lambda_8, mu, delta, \"call\")\n",
        "delta_call_8_0 = (euro_call_merton_mc8_1 - euro_call_merton_mc8_0) / dS0\n",
        "delta_call_8_1 = (euro_call_merton_mc8_2 - euro_call_merton_mc8_1) / dS1\n",
        "gamma_call8 = (delta_call_8_1 - delta_call_8_0) / d2S\n",
        "\n",
        "euro_put_merton_mc8_0 = european_merton_mc(S0, K, r, sigma, T, M, iter, lambda_8, mu, delta, \"put\")\n",
        "euro_put_merton_mc8_1 = european_merton_mc(S1, K, r, sigma, T, M, iter, lambda_8, mu, delta, \"put\")\n",
        "euro_put_merton_mc8_2 = european_merton_mc(S2, K, r, sigma, T, M, iter, lambda_8, mu, delta, \"put\")\n",
        "delta_put_8_0 = (euro_put_merton_mc8_1 - euro_put_merton_mc8_0) / dS0\n",
        "delta_put_8_1 = (euro_put_merton_mc8_2 - euro_put_merton_mc8_1) / dS1\n",
        "gamma_put8 = (delta_put_8_1 - delta_put_8_0) / d2S\n",
        "\n",
        "print(f\"Gamma for ATM European Call option with lambda 0.75 (Merton model): {round(gamma_call8,4)}\")\n",
        "print(f\"Gamma for ATM European Put option with lambda 0.75 (Merton model): {round(gamma_put8,4)}\")\n",
        "\n",
        "# Calcalation of gammas for put and call with lambda 0.25\n",
        "euro_call_merton_mc9_0 = european_merton_mc(S0, K, r, sigma, T, M, iter, lambda_9, mu, delta, \"call\")\n",
        "euro_call_merton_mc9_1 = european_merton_mc(S1, K, r, sigma, T, M, iter, lambda_9, mu, delta, \"call\")\n",
        "euro_call_merton_mc9_2 = european_merton_mc(S2, K, r, sigma, T, M, iter, lambda_9, mu, delta, \"call\")\n",
        "delta_call_9_0 = (euro_call_merton_mc9_1 - euro_call_merton_mc9_0) / dS0\n",
        "delta_call_9_1 = (euro_call_merton_mc9_2 - euro_call_merton_mc9_1) / dS1\n",
        "gamma_call9 = (delta_call_9_1 - delta_call_9_0) / d2S\n",
        "\n",
        "euro_put_merton_mc9_0 = european_merton_mc(S0, K, r, sigma, T, M, iter, lambda_9, mu, delta, \"put\")\n",
        "euro_put_merton_mc9_1 = european_merton_mc(S1, K, r, sigma, T, M, iter, lambda_9, mu, delta, \"put\")\n",
        "euro_put_merton_mc9_2 = european_merton_mc(S2, K, r, sigma, T, M, iter, lambda_9, mu, delta, \"put\")\n",
        "delta_put_9_0 = (euro_put_merton_mc9_1 - euro_put_merton_mc9_0) / dS0\n",
        "delta_put_9_1 = (euro_put_merton_mc9_2 - euro_put_merton_mc9_1) / dS1\n",
        "gamma_put9 = (delta_put_9_1 - delta_put_9_0) / d2S\n",
        "\n",
        "print(f\"Gamma for ATM European Call option with lambda 0.25 (Merton model): {round(gamma_call9,4)}\")\n",
        "print(f\"Gamma for ATM European Put option with lambda 0.25 (Merton model): {round(gamma_put9,4)}\")"
      ],
      "metadata": {
        "colab": {
          "base_uri": "https://localhost:8080/"
        },
        "id": "aiXPOeMmWWO3",
        "outputId": "08f3305a-e78a-4935-c8f6-186028c8e521"
      },
      "execution_count": null,
      "outputs": [
        {
          "output_type": "stream",
          "name": "stdout",
          "text": [
            "Gamma for ATM European Call option with lambda 0.75 (Merton model): -0.0132\n",
            "Gamma for ATM European Put option with lambda 0.75 (Merton model): -0.0093\n",
            "Gamma for ATM European Call option with lambda 0.25 (Merton model): -0.0155\n",
            "Gamma for ATM European Put option with lambda 0.25 (Merton model): -0.0333\n"
          ]
        }
      ]
    },
    {
      "cell_type": "markdown",
      "source": [
        "Summarizing in a table (for different lambdas: 0.75 and 0.25):"
      ],
      "metadata": {
        "id": "KpiiUw0aj2Q_"
      }
    },
    {
      "cell_type": "code",
      "source": [
        "data = {\"Price (0.75)\": ['${:.2f}'.format(euro_call_merton_mc8), '${:.2f}'.format(euro_put_merton_mc8)],\n",
        "        \"Price (0.25)\": ['${:.2f}'.format(euro_call_merton_mc9), '${:.2f}'.format(euro_put_merton_mc9)],\n",
        "        \"Delta (0.75)\": [round(delta_call_8,4), round(delta_put_8,4)],\n",
        "        \"Delta (0.25)\": [round(delta_call_9,4), round(delta_put_9,4)],\n",
        "        \"Gamma (0.25)\": [round(gamma_call8,4), round(gamma_put8,4)],\n",
        "        \"Gamma (0.75)\": [round(gamma_call9,4), round(gamma_put9,4)]}\n",
        "idx_names = [\"Call option\", \"Put option\"]\n",
        "\n",
        "pd.DataFrame(data, index = idx_names)"
      ],
      "metadata": {
        "id": "aGZNy3SsWWRa",
        "colab": {
          "base_uri": "https://localhost:8080/",
          "height": 112
        },
        "outputId": "ffd6416e-7209-4b0c-93fb-389bd8e79570"
      },
      "execution_count": null,
      "outputs": [
        {
          "output_type": "execute_result",
          "data": {
            "text/plain": [
              "            Price (0.75) Price (0.25)  Delta (0.75)  Delta (0.25)  \\\n",
              "Call option        $8.22        $7.02        0.7454        0.7454   \n",
              "Put option         $7.09        $5.87       -0.2485       -0.2485   \n",
              "\n",
              "             Gamma (0.25)  Gamma (0.75)  \n",
              "Call option       -0.0132       -0.0155  \n",
              "Put option        -0.0093       -0.0333  "
            ],
            "text/html": [
              "\n",
              "  <div id=\"df-a4a596b5-09d0-4ba0-b4b7-5e89cf1792cf\" class=\"colab-df-container\">\n",
              "    <div>\n",
              "<style scoped>\n",
              "    .dataframe tbody tr th:only-of-type {\n",
              "        vertical-align: middle;\n",
              "    }\n",
              "\n",
              "    .dataframe tbody tr th {\n",
              "        vertical-align: top;\n",
              "    }\n",
              "\n",
              "    .dataframe thead th {\n",
              "        text-align: right;\n",
              "    }\n",
              "</style>\n",
              "<table border=\"1\" class=\"dataframe\">\n",
              "  <thead>\n",
              "    <tr style=\"text-align: right;\">\n",
              "      <th></th>\n",
              "      <th>Price (0.75)</th>\n",
              "      <th>Price (0.25)</th>\n",
              "      <th>Delta (0.75)</th>\n",
              "      <th>Delta (0.25)</th>\n",
              "      <th>Gamma (0.25)</th>\n",
              "      <th>Gamma (0.75)</th>\n",
              "    </tr>\n",
              "  </thead>\n",
              "  <tbody>\n",
              "    <tr>\n",
              "      <th>Call option</th>\n",
              "      <td>$8.22</td>\n",
              "      <td>$7.02</td>\n",
              "      <td>0.7454</td>\n",
              "      <td>0.7454</td>\n",
              "      <td>-0.0132</td>\n",
              "      <td>-0.0155</td>\n",
              "    </tr>\n",
              "    <tr>\n",
              "      <th>Put option</th>\n",
              "      <td>$7.09</td>\n",
              "      <td>$5.87</td>\n",
              "      <td>-0.2485</td>\n",
              "      <td>-0.2485</td>\n",
              "      <td>-0.0093</td>\n",
              "      <td>-0.0333</td>\n",
              "    </tr>\n",
              "  </tbody>\n",
              "</table>\n",
              "</div>\n",
              "    <div class=\"colab-df-buttons\">\n",
              "\n",
              "  <div class=\"colab-df-container\">\n",
              "    <button class=\"colab-df-convert\" onclick=\"convertToInteractive('df-a4a596b5-09d0-4ba0-b4b7-5e89cf1792cf')\"\n",
              "            title=\"Convert this dataframe to an interactive table.\"\n",
              "            style=\"display:none;\">\n",
              "\n",
              "  <svg xmlns=\"http://www.w3.org/2000/svg\" height=\"24px\" viewBox=\"0 -960 960 960\">\n",
              "    <path d=\"M120-120v-720h720v720H120Zm60-500h600v-160H180v160Zm220 220h160v-160H400v160Zm0 220h160v-160H400v160ZM180-400h160v-160H180v160Zm440 0h160v-160H620v160ZM180-180h160v-160H180v160Zm440 0h160v-160H620v160Z\"/>\n",
              "  </svg>\n",
              "    </button>\n",
              "\n",
              "  <style>\n",
              "    .colab-df-container {\n",
              "      display:flex;\n",
              "      gap: 12px;\n",
              "    }\n",
              "\n",
              "    .colab-df-convert {\n",
              "      background-color: #E8F0FE;\n",
              "      border: none;\n",
              "      border-radius: 50%;\n",
              "      cursor: pointer;\n",
              "      display: none;\n",
              "      fill: #1967D2;\n",
              "      height: 32px;\n",
              "      padding: 0 0 0 0;\n",
              "      width: 32px;\n",
              "    }\n",
              "\n",
              "    .colab-df-convert:hover {\n",
              "      background-color: #E2EBFA;\n",
              "      box-shadow: 0px 1px 2px rgba(60, 64, 67, 0.3), 0px 1px 3px 1px rgba(60, 64, 67, 0.15);\n",
              "      fill: #174EA6;\n",
              "    }\n",
              "\n",
              "    .colab-df-buttons div {\n",
              "      margin-bottom: 4px;\n",
              "    }\n",
              "\n",
              "    [theme=dark] .colab-df-convert {\n",
              "      background-color: #3B4455;\n",
              "      fill: #D2E3FC;\n",
              "    }\n",
              "\n",
              "    [theme=dark] .colab-df-convert:hover {\n",
              "      background-color: #434B5C;\n",
              "      box-shadow: 0px 1px 3px 1px rgba(0, 0, 0, 0.15);\n",
              "      filter: drop-shadow(0px 1px 2px rgba(0, 0, 0, 0.3));\n",
              "      fill: #FFFFFF;\n",
              "    }\n",
              "  </style>\n",
              "\n",
              "    <script>\n",
              "      const buttonEl =\n",
              "        document.querySelector('#df-a4a596b5-09d0-4ba0-b4b7-5e89cf1792cf button.colab-df-convert');\n",
              "      buttonEl.style.display =\n",
              "        google.colab.kernel.accessAllowed ? 'block' : 'none';\n",
              "\n",
              "      async function convertToInteractive(key) {\n",
              "        const element = document.querySelector('#df-a4a596b5-09d0-4ba0-b4b7-5e89cf1792cf');\n",
              "        const dataTable =\n",
              "          await google.colab.kernel.invokeFunction('convertToInteractive',\n",
              "                                                    [key], {});\n",
              "        if (!dataTable) return;\n",
              "\n",
              "        const docLinkHtml = 'Like what you see? Visit the ' +\n",
              "          '<a target=\"_blank\" href=https://colab.research.google.com/notebooks/data_table.ipynb>data table notebook</a>'\n",
              "          + ' to learn more about interactive tables.';\n",
              "        element.innerHTML = '';\n",
              "        dataTable['output_type'] = 'display_data';\n",
              "        await google.colab.output.renderOutput(dataTable, element);\n",
              "        const docLink = document.createElement('div');\n",
              "        docLink.innerHTML = docLinkHtml;\n",
              "        element.appendChild(docLink);\n",
              "      }\n",
              "    </script>\n",
              "  </div>\n",
              "\n",
              "\n",
              "<div id=\"df-593ba8c3-f8b7-4f3b-97ee-4a63badbcfe9\">\n",
              "  <button class=\"colab-df-quickchart\" onclick=\"quickchart('df-593ba8c3-f8b7-4f3b-97ee-4a63badbcfe9')\"\n",
              "            title=\"Suggest charts\"\n",
              "            style=\"display:none;\">\n",
              "\n",
              "<svg xmlns=\"http://www.w3.org/2000/svg\" height=\"24px\"viewBox=\"0 0 24 24\"\n",
              "     width=\"24px\">\n",
              "    <g>\n",
              "        <path d=\"M19 3H5c-1.1 0-2 .9-2 2v14c0 1.1.9 2 2 2h14c1.1 0 2-.9 2-2V5c0-1.1-.9-2-2-2zM9 17H7v-7h2v7zm4 0h-2V7h2v10zm4 0h-2v-4h2v4z\"/>\n",
              "    </g>\n",
              "</svg>\n",
              "  </button>\n",
              "\n",
              "<style>\n",
              "  .colab-df-quickchart {\n",
              "      --bg-color: #E8F0FE;\n",
              "      --fill-color: #1967D2;\n",
              "      --hover-bg-color: #E2EBFA;\n",
              "      --hover-fill-color: #174EA6;\n",
              "      --disabled-fill-color: #AAA;\n",
              "      --disabled-bg-color: #DDD;\n",
              "  }\n",
              "\n",
              "  [theme=dark] .colab-df-quickchart {\n",
              "      --bg-color: #3B4455;\n",
              "      --fill-color: #D2E3FC;\n",
              "      --hover-bg-color: #434B5C;\n",
              "      --hover-fill-color: #FFFFFF;\n",
              "      --disabled-bg-color: #3B4455;\n",
              "      --disabled-fill-color: #666;\n",
              "  }\n",
              "\n",
              "  .colab-df-quickchart {\n",
              "    background-color: var(--bg-color);\n",
              "    border: none;\n",
              "    border-radius: 50%;\n",
              "    cursor: pointer;\n",
              "    display: none;\n",
              "    fill: var(--fill-color);\n",
              "    height: 32px;\n",
              "    padding: 0;\n",
              "    width: 32px;\n",
              "  }\n",
              "\n",
              "  .colab-df-quickchart:hover {\n",
              "    background-color: var(--hover-bg-color);\n",
              "    box-shadow: 0 1px 2px rgba(60, 64, 67, 0.3), 0 1px 3px 1px rgba(60, 64, 67, 0.15);\n",
              "    fill: var(--button-hover-fill-color);\n",
              "  }\n",
              "\n",
              "  .colab-df-quickchart-complete:disabled,\n",
              "  .colab-df-quickchart-complete:disabled:hover {\n",
              "    background-color: var(--disabled-bg-color);\n",
              "    fill: var(--disabled-fill-color);\n",
              "    box-shadow: none;\n",
              "  }\n",
              "\n",
              "  .colab-df-spinner {\n",
              "    border: 2px solid var(--fill-color);\n",
              "    border-color: transparent;\n",
              "    border-bottom-color: var(--fill-color);\n",
              "    animation:\n",
              "      spin 1s steps(1) infinite;\n",
              "  }\n",
              "\n",
              "  @keyframes spin {\n",
              "    0% {\n",
              "      border-color: transparent;\n",
              "      border-bottom-color: var(--fill-color);\n",
              "      border-left-color: var(--fill-color);\n",
              "    }\n",
              "    20% {\n",
              "      border-color: transparent;\n",
              "      border-left-color: var(--fill-color);\n",
              "      border-top-color: var(--fill-color);\n",
              "    }\n",
              "    30% {\n",
              "      border-color: transparent;\n",
              "      border-left-color: var(--fill-color);\n",
              "      border-top-color: var(--fill-color);\n",
              "      border-right-color: var(--fill-color);\n",
              "    }\n",
              "    40% {\n",
              "      border-color: transparent;\n",
              "      border-right-color: var(--fill-color);\n",
              "      border-top-color: var(--fill-color);\n",
              "    }\n",
              "    60% {\n",
              "      border-color: transparent;\n",
              "      border-right-color: var(--fill-color);\n",
              "    }\n",
              "    80% {\n",
              "      border-color: transparent;\n",
              "      border-right-color: var(--fill-color);\n",
              "      border-bottom-color: var(--fill-color);\n",
              "    }\n",
              "    90% {\n",
              "      border-color: transparent;\n",
              "      border-bottom-color: var(--fill-color);\n",
              "    }\n",
              "  }\n",
              "</style>\n",
              "\n",
              "  <script>\n",
              "    async function quickchart(key) {\n",
              "      const quickchartButtonEl =\n",
              "        document.querySelector('#' + key + ' button');\n",
              "      quickchartButtonEl.disabled = true;  // To prevent multiple clicks.\n",
              "      quickchartButtonEl.classList.add('colab-df-spinner');\n",
              "      try {\n",
              "        const charts = await google.colab.kernel.invokeFunction(\n",
              "            'suggestCharts', [key], {});\n",
              "      } catch (error) {\n",
              "        console.error('Error during call to suggestCharts:', error);\n",
              "      }\n",
              "      quickchartButtonEl.classList.remove('colab-df-spinner');\n",
              "      quickchartButtonEl.classList.add('colab-df-quickchart-complete');\n",
              "    }\n",
              "    (() => {\n",
              "      let quickchartButtonEl =\n",
              "        document.querySelector('#df-593ba8c3-f8b7-4f3b-97ee-4a63badbcfe9 button');\n",
              "      quickchartButtonEl.style.display =\n",
              "        google.colab.kernel.accessAllowed ? 'block' : 'none';\n",
              "    })();\n",
              "  </script>\n",
              "</div>\n",
              "\n",
              "    </div>\n",
              "  </div>\n"
            ],
            "application/vnd.google.colaboratory.intrinsic+json": {
              "type": "dataframe",
              "summary": "{\n  \"name\": \"pd\",\n  \"rows\": 2,\n  \"fields\": [\n    {\n      \"column\": \"Price (0.75)\",\n      \"properties\": {\n        \"dtype\": \"string\",\n        \"num_unique_values\": 2,\n        \"samples\": [\n          \"$7.09\",\n          \"$8.22\"\n        ],\n        \"semantic_type\": \"\",\n        \"description\": \"\"\n      }\n    },\n    {\n      \"column\": \"Price (0.25)\",\n      \"properties\": {\n        \"dtype\": \"string\",\n        \"num_unique_values\": 2,\n        \"samples\": [\n          \"$5.87\",\n          \"$7.02\"\n        ],\n        \"semantic_type\": \"\",\n        \"description\": \"\"\n      }\n    },\n    {\n      \"column\": \"Delta (0.75)\",\n      \"properties\": {\n        \"dtype\": \"number\",\n        \"std\": 0.7027934298213095,\n        \"min\": -0.2485,\n        \"max\": 0.7454,\n        \"num_unique_values\": 2,\n        \"samples\": [\n          -0.2485,\n          0.7454\n        ],\n        \"semantic_type\": \"\",\n        \"description\": \"\"\n      }\n    },\n    {\n      \"column\": \"Delta (0.25)\",\n      \"properties\": {\n        \"dtype\": \"number\",\n        \"std\": 0.7027934298213095,\n        \"min\": -0.2485,\n        \"max\": 0.7454,\n        \"num_unique_values\": 2,\n        \"samples\": [\n          -0.2485,\n          0.7454\n        ],\n        \"semantic_type\": \"\",\n        \"description\": \"\"\n      }\n    },\n    {\n      \"column\": \"Gamma (0.25)\",\n      \"properties\": {\n        \"dtype\": \"number\",\n        \"std\": 0.0027577164466275356,\n        \"min\": -0.0132,\n        \"max\": -0.0093,\n        \"num_unique_values\": 2,\n        \"samples\": [\n          -0.0093,\n          -0.0132\n        ],\n        \"semantic_type\": \"\",\n        \"description\": \"\"\n      }\n    },\n    {\n      \"column\": \"Gamma (0.75)\",\n      \"properties\": {\n        \"dtype\": \"number\",\n        \"std\": 0.01258650070512055,\n        \"min\": -0.0333,\n        \"max\": -0.0155,\n        \"num_unique_values\": 2,\n        \"samples\": [\n          -0.0333,\n          -0.0155\n        ],\n        \"semantic_type\": \"\",\n        \"description\": \"\"\n      }\n    }\n  ]\n}"
            }
          },
          "metadata": {},
          "execution_count": 79
        }
      ]
    },
    {
      "cell_type": "markdown",
      "source": [
        "### Model Validator"
      ],
      "metadata": {
        "id": "sBPRB0aaAgNa"
      }
    },
    {
      "cell_type": "markdown",
      "source": [
        "#### 11. For Questions 5, 6, 8, and 9, use put-call Parity to determine if the prices of the put and call from the Heston Model and Merton Model satisfy put-call parity."
      ],
      "metadata": {
        "id": "M22_GLswCj0h"
      }
    },
    {
      "cell_type": "code",
      "source": [
        "def verify_put_call_parity(S0, C, P, K, r, T, tolerance=2):\n",
        "    left = C + K*np.exp(-r*T)\n",
        "    right = P + S0\n",
        "\n",
        "    print(f'left hand side: {left:.2f}')\n",
        "    print(f'right hand side: {right:.2f}')\n",
        "\n",
        "    if abs(left-right) < tolerance:\n",
        "        print('Put-call parity holds')\n",
        "    else:\n",
        "        print('Put-call parity does not hold')"
      ],
      "metadata": {
        "id": "IlKmS-F-NwJo"
      },
      "execution_count": null,
      "outputs": []
    },
    {
      "cell_type": "markdown",
      "source": [
        "##### Using the Heston Model and Monte-Carlo simulation, price an ATM European call and put, using a correlation value of -0.30."
      ],
      "metadata": {
        "id": "o-yCloKaHLPd"
      }
    },
    {
      "cell_type": "code",
      "source": [
        "verify_put_call_parity(S0=S0, C=european_call_price_1, P=european_put_price_1, K=S0, r=r, T=T)"
      ],
      "metadata": {
        "colab": {
          "base_uri": "https://localhost:8080/"
        },
        "id": "psW_o2UtOYr8",
        "outputId": "126dc6d1-a0f9-48f1-9dfd-217e9b3eb0c2"
      },
      "execution_count": null,
      "outputs": [
        {
          "output_type": "stream",
          "name": "stdout",
          "text": [
            "left hand side: 81.78\n",
            "right hand side: 82.83\n",
            "Put-call parity holds\n"
          ]
        }
      ]
    },
    {
      "cell_type": "markdown",
      "source": [
        "##### Using the Heston Model, price an ATM European call and put, using a correlation value of -0.70."
      ],
      "metadata": {
        "id": "SUnUqkGVHeA1"
      }
    },
    {
      "cell_type": "code",
      "source": [
        "verify_put_call_parity(S0=S0, C=european_call_price_2, P=european_call_price_2, K=S0, r=r, T=T)"
      ],
      "metadata": {
        "colab": {
          "base_uri": "https://localhost:8080/"
        },
        "id": "uX5V7ZL7O5fv",
        "outputId": "4a872f07-ff46-4056-938e-a3189d0f6b8d"
      },
      "execution_count": null,
      "outputs": [
        {
          "output_type": "stream",
          "name": "stdout",
          "text": [
            "left hand side: 81.03\n",
            "right hand side: 82.12\n",
            "Put-call parity holds\n"
          ]
        }
      ]
    },
    {
      "cell_type": "markdown",
      "source": [
        "##### Using the Merton Model, price an ATM European call and put with jump intensity parameter equal to 0.75.\n"
      ],
      "metadata": {
        "id": "Crp0uP_vHeEc"
      }
    },
    {
      "cell_type": "code",
      "source": [
        "verify_put_call_parity(S0=S0, C=euro_call_merton_mc8_0, P=euro_put_merton_mc8_0, K=S0, r=r, T=T)"
      ],
      "metadata": {
        "colab": {
          "base_uri": "https://localhost:8080/"
        },
        "id": "DH5fWf6LPMpA",
        "outputId": "7b2302ef-bd2e-4f89-e4bc-97d1f956010d"
      },
      "execution_count": null,
      "outputs": [
        {
          "output_type": "stream",
          "name": "stdout",
          "text": [
            "left hand side: 87.26\n",
            "right hand side: 87.26\n",
            "Put-call parity holds\n"
          ]
        }
      ]
    },
    {
      "cell_type": "markdown",
      "source": [
        "##### Using the Merton Model, price an ATM European call and put with jump intensity parameter equal to 0.25"
      ],
      "metadata": {
        "id": "FcEo9nzgHeG3"
      }
    },
    {
      "cell_type": "code",
      "source": [
        "verify_put_call_parity(S0=S0, C=euro_call_merton_mc9_0, P=euro_put_merton_mc9_0, K=S0, r=r, T=T)"
      ],
      "metadata": {
        "colab": {
          "base_uri": "https://localhost:8080/"
        },
        "id": "BDw0_sNPPNOx",
        "outputId": "9ebcb476-edfb-429f-dba2-0f1761c6c1cc"
      },
      "execution_count": null,
      "outputs": [
        {
          "output_type": "stream",
          "name": "stdout",
          "text": [
            "left hand side: 85.63\n",
            "right hand side: 85.67\n",
            "Put-call parity holds\n"
          ]
        }
      ]
    },
    {
      "cell_type": "markdown",
      "source": [
        "#### 12. Run the Heston Model and Merton Model for 7 different strikes: 3 OTM calls; 1 ATM call; and 3 ITM calls. The strikes should be equally spaced. Try to use the following APPROXIMATE moneyness values: 0.85, 0.90, 0.95, 1, 1.05, 1.10, and 1.15. Recall that moneyness = stock/strike."
      ],
      "metadata": {
        "id": "Q85sraV1RL5G"
      }
    },
    {
      "cell_type": "code",
      "source": [
        "moneyness_values = [0.85, 0.9, 0.95, 1, 1.05, 1.10, 1.15]\n",
        "\n",
        "data = []\n",
        "\n",
        "for moneyness in moneyness_values:\n",
        "\n",
        "    K = S0 / moneyness\n",
        "\n",
        "    # use a correlation value of -0.3\n",
        "    hetson_call = heston_call_put_mc(S_1, K, r, T, 0, 'C')\n",
        "    hetson_put = heston_call_put_mc(S_1, K, r, T, 0,'P')\n",
        "\n",
        "    # jump intensity parameter equal to 0.75\n",
        "    merton_call = european_merton_mc(S0, K, r, sigma, T, M, iter, lambda_8, mu, delta, 'call')\n",
        "    merton_put = european_merton_mc(S0, K, r, sigma, T, M, iter, lambda_8, mu, delta, 'put')\n",
        "\n",
        "    data.append([hetson_call, hetson_put, merton_call, merton_put])\n",
        "\n",
        "df = pd.DataFrame(np.array(data).T, index=['hetson_call', 'hetson_put', 'merton_call', 'merton_put'], columns=moneyness_values)\n",
        "pd.set_option('display.precision', 2)\n",
        "df\n"
      ],
      "metadata": {
        "id": "GTbbIcYqU0ET",
        "colab": {
          "base_uri": "https://localhost:8080/",
          "height": 175
        },
        "outputId": "805aec58-b378-4959-8185-e266e2fff5f2"
      },
      "execution_count": null,
      "outputs": [
        {
          "output_type": "execute_result",
          "data": {
            "text/plain": [
              "              0.85   0.90  0.95  1.00   1.05   1.10   1.15\n",
              "hetson_call   0.10   0.41  1.25  2.87   5.18   7.86  10.63\n",
              "hetson_put   13.98   9.13  5.36  2.83   1.38   0.64   0.29\n",
              "merton_call   2.71   4.43  6.12  8.24  10.41  12.99  14.82\n",
              "merton_put   15.60  11.97  9.54  7.13   5.73   4.58   3.85"
            ],
            "text/html": [
              "\n",
              "  <div id=\"df-6f001296-642d-48d2-be4b-645c72687361\" class=\"colab-df-container\">\n",
              "    <div>\n",
              "<style scoped>\n",
              "    .dataframe tbody tr th:only-of-type {\n",
              "        vertical-align: middle;\n",
              "    }\n",
              "\n",
              "    .dataframe tbody tr th {\n",
              "        vertical-align: top;\n",
              "    }\n",
              "\n",
              "    .dataframe thead th {\n",
              "        text-align: right;\n",
              "    }\n",
              "</style>\n",
              "<table border=\"1\" class=\"dataframe\">\n",
              "  <thead>\n",
              "    <tr style=\"text-align: right;\">\n",
              "      <th></th>\n",
              "      <th>0.85</th>\n",
              "      <th>0.90</th>\n",
              "      <th>0.95</th>\n",
              "      <th>1.00</th>\n",
              "      <th>1.05</th>\n",
              "      <th>1.10</th>\n",
              "      <th>1.15</th>\n",
              "    </tr>\n",
              "  </thead>\n",
              "  <tbody>\n",
              "    <tr>\n",
              "      <th>hetson_call</th>\n",
              "      <td>0.10</td>\n",
              "      <td>0.41</td>\n",
              "      <td>1.25</td>\n",
              "      <td>2.87</td>\n",
              "      <td>5.18</td>\n",
              "      <td>7.86</td>\n",
              "      <td>10.63</td>\n",
              "    </tr>\n",
              "    <tr>\n",
              "      <th>hetson_put</th>\n",
              "      <td>13.98</td>\n",
              "      <td>9.13</td>\n",
              "      <td>5.36</td>\n",
              "      <td>2.83</td>\n",
              "      <td>1.38</td>\n",
              "      <td>0.64</td>\n",
              "      <td>0.29</td>\n",
              "    </tr>\n",
              "    <tr>\n",
              "      <th>merton_call</th>\n",
              "      <td>2.71</td>\n",
              "      <td>4.43</td>\n",
              "      <td>6.12</td>\n",
              "      <td>8.24</td>\n",
              "      <td>10.41</td>\n",
              "      <td>12.99</td>\n",
              "      <td>14.82</td>\n",
              "    </tr>\n",
              "    <tr>\n",
              "      <th>merton_put</th>\n",
              "      <td>15.60</td>\n",
              "      <td>11.97</td>\n",
              "      <td>9.54</td>\n",
              "      <td>7.13</td>\n",
              "      <td>5.73</td>\n",
              "      <td>4.58</td>\n",
              "      <td>3.85</td>\n",
              "    </tr>\n",
              "  </tbody>\n",
              "</table>\n",
              "</div>\n",
              "    <div class=\"colab-df-buttons\">\n",
              "\n",
              "  <div class=\"colab-df-container\">\n",
              "    <button class=\"colab-df-convert\" onclick=\"convertToInteractive('df-6f001296-642d-48d2-be4b-645c72687361')\"\n",
              "            title=\"Convert this dataframe to an interactive table.\"\n",
              "            style=\"display:none;\">\n",
              "\n",
              "  <svg xmlns=\"http://www.w3.org/2000/svg\" height=\"24px\" viewBox=\"0 -960 960 960\">\n",
              "    <path d=\"M120-120v-720h720v720H120Zm60-500h600v-160H180v160Zm220 220h160v-160H400v160Zm0 220h160v-160H400v160ZM180-400h160v-160H180v160Zm440 0h160v-160H620v160ZM180-180h160v-160H180v160Zm440 0h160v-160H620v160Z\"/>\n",
              "  </svg>\n",
              "    </button>\n",
              "\n",
              "  <style>\n",
              "    .colab-df-container {\n",
              "      display:flex;\n",
              "      gap: 12px;\n",
              "    }\n",
              "\n",
              "    .colab-df-convert {\n",
              "      background-color: #E8F0FE;\n",
              "      border: none;\n",
              "      border-radius: 50%;\n",
              "      cursor: pointer;\n",
              "      display: none;\n",
              "      fill: #1967D2;\n",
              "      height: 32px;\n",
              "      padding: 0 0 0 0;\n",
              "      width: 32px;\n",
              "    }\n",
              "\n",
              "    .colab-df-convert:hover {\n",
              "      background-color: #E2EBFA;\n",
              "      box-shadow: 0px 1px 2px rgba(60, 64, 67, 0.3), 0px 1px 3px 1px rgba(60, 64, 67, 0.15);\n",
              "      fill: #174EA6;\n",
              "    }\n",
              "\n",
              "    .colab-df-buttons div {\n",
              "      margin-bottom: 4px;\n",
              "    }\n",
              "\n",
              "    [theme=dark] .colab-df-convert {\n",
              "      background-color: #3B4455;\n",
              "      fill: #D2E3FC;\n",
              "    }\n",
              "\n",
              "    [theme=dark] .colab-df-convert:hover {\n",
              "      background-color: #434B5C;\n",
              "      box-shadow: 0px 1px 3px 1px rgba(0, 0, 0, 0.15);\n",
              "      filter: drop-shadow(0px 1px 2px rgba(0, 0, 0, 0.3));\n",
              "      fill: #FFFFFF;\n",
              "    }\n",
              "  </style>\n",
              "\n",
              "    <script>\n",
              "      const buttonEl =\n",
              "        document.querySelector('#df-6f001296-642d-48d2-be4b-645c72687361 button.colab-df-convert');\n",
              "      buttonEl.style.display =\n",
              "        google.colab.kernel.accessAllowed ? 'block' : 'none';\n",
              "\n",
              "      async function convertToInteractive(key) {\n",
              "        const element = document.querySelector('#df-6f001296-642d-48d2-be4b-645c72687361');\n",
              "        const dataTable =\n",
              "          await google.colab.kernel.invokeFunction('convertToInteractive',\n",
              "                                                    [key], {});\n",
              "        if (!dataTable) return;\n",
              "\n",
              "        const docLinkHtml = 'Like what you see? Visit the ' +\n",
              "          '<a target=\"_blank\" href=https://colab.research.google.com/notebooks/data_table.ipynb>data table notebook</a>'\n",
              "          + ' to learn more about interactive tables.';\n",
              "        element.innerHTML = '';\n",
              "        dataTable['output_type'] = 'display_data';\n",
              "        await google.colab.output.renderOutput(dataTable, element);\n",
              "        const docLink = document.createElement('div');\n",
              "        docLink.innerHTML = docLinkHtml;\n",
              "        element.appendChild(docLink);\n",
              "      }\n",
              "    </script>\n",
              "  </div>\n",
              "\n",
              "\n",
              "<div id=\"df-524657d3-577d-4ec7-b135-af3fd9751aa0\">\n",
              "  <button class=\"colab-df-quickchart\" onclick=\"quickchart('df-524657d3-577d-4ec7-b135-af3fd9751aa0')\"\n",
              "            title=\"Suggest charts\"\n",
              "            style=\"display:none;\">\n",
              "\n",
              "<svg xmlns=\"http://www.w3.org/2000/svg\" height=\"24px\"viewBox=\"0 0 24 24\"\n",
              "     width=\"24px\">\n",
              "    <g>\n",
              "        <path d=\"M19 3H5c-1.1 0-2 .9-2 2v14c0 1.1.9 2 2 2h14c1.1 0 2-.9 2-2V5c0-1.1-.9-2-2-2zM9 17H7v-7h2v7zm4 0h-2V7h2v10zm4 0h-2v-4h2v4z\"/>\n",
              "    </g>\n",
              "</svg>\n",
              "  </button>\n",
              "\n",
              "<style>\n",
              "  .colab-df-quickchart {\n",
              "      --bg-color: #E8F0FE;\n",
              "      --fill-color: #1967D2;\n",
              "      --hover-bg-color: #E2EBFA;\n",
              "      --hover-fill-color: #174EA6;\n",
              "      --disabled-fill-color: #AAA;\n",
              "      --disabled-bg-color: #DDD;\n",
              "  }\n",
              "\n",
              "  [theme=dark] .colab-df-quickchart {\n",
              "      --bg-color: #3B4455;\n",
              "      --fill-color: #D2E3FC;\n",
              "      --hover-bg-color: #434B5C;\n",
              "      --hover-fill-color: #FFFFFF;\n",
              "      --disabled-bg-color: #3B4455;\n",
              "      --disabled-fill-color: #666;\n",
              "  }\n",
              "\n",
              "  .colab-df-quickchart {\n",
              "    background-color: var(--bg-color);\n",
              "    border: none;\n",
              "    border-radius: 50%;\n",
              "    cursor: pointer;\n",
              "    display: none;\n",
              "    fill: var(--fill-color);\n",
              "    height: 32px;\n",
              "    padding: 0;\n",
              "    width: 32px;\n",
              "  }\n",
              "\n",
              "  .colab-df-quickchart:hover {\n",
              "    background-color: var(--hover-bg-color);\n",
              "    box-shadow: 0 1px 2px rgba(60, 64, 67, 0.3), 0 1px 3px 1px rgba(60, 64, 67, 0.15);\n",
              "    fill: var(--button-hover-fill-color);\n",
              "  }\n",
              "\n",
              "  .colab-df-quickchart-complete:disabled,\n",
              "  .colab-df-quickchart-complete:disabled:hover {\n",
              "    background-color: var(--disabled-bg-color);\n",
              "    fill: var(--disabled-fill-color);\n",
              "    box-shadow: none;\n",
              "  }\n",
              "\n",
              "  .colab-df-spinner {\n",
              "    border: 2px solid var(--fill-color);\n",
              "    border-color: transparent;\n",
              "    border-bottom-color: var(--fill-color);\n",
              "    animation:\n",
              "      spin 1s steps(1) infinite;\n",
              "  }\n",
              "\n",
              "  @keyframes spin {\n",
              "    0% {\n",
              "      border-color: transparent;\n",
              "      border-bottom-color: var(--fill-color);\n",
              "      border-left-color: var(--fill-color);\n",
              "    }\n",
              "    20% {\n",
              "      border-color: transparent;\n",
              "      border-left-color: var(--fill-color);\n",
              "      border-top-color: var(--fill-color);\n",
              "    }\n",
              "    30% {\n",
              "      border-color: transparent;\n",
              "      border-left-color: var(--fill-color);\n",
              "      border-top-color: var(--fill-color);\n",
              "      border-right-color: var(--fill-color);\n",
              "    }\n",
              "    40% {\n",
              "      border-color: transparent;\n",
              "      border-right-color: var(--fill-color);\n",
              "      border-top-color: var(--fill-color);\n",
              "    }\n",
              "    60% {\n",
              "      border-color: transparent;\n",
              "      border-right-color: var(--fill-color);\n",
              "    }\n",
              "    80% {\n",
              "      border-color: transparent;\n",
              "      border-right-color: var(--fill-color);\n",
              "      border-bottom-color: var(--fill-color);\n",
              "    }\n",
              "    90% {\n",
              "      border-color: transparent;\n",
              "      border-bottom-color: var(--fill-color);\n",
              "    }\n",
              "  }\n",
              "</style>\n",
              "\n",
              "  <script>\n",
              "    async function quickchart(key) {\n",
              "      const quickchartButtonEl =\n",
              "        document.querySelector('#' + key + ' button');\n",
              "      quickchartButtonEl.disabled = true;  // To prevent multiple clicks.\n",
              "      quickchartButtonEl.classList.add('colab-df-spinner');\n",
              "      try {\n",
              "        const charts = await google.colab.kernel.invokeFunction(\n",
              "            'suggestCharts', [key], {});\n",
              "      } catch (error) {\n",
              "        console.error('Error during call to suggestCharts:', error);\n",
              "      }\n",
              "      quickchartButtonEl.classList.remove('colab-df-spinner');\n",
              "      quickchartButtonEl.classList.add('colab-df-quickchart-complete');\n",
              "    }\n",
              "    (() => {\n",
              "      let quickchartButtonEl =\n",
              "        document.querySelector('#df-524657d3-577d-4ec7-b135-af3fd9751aa0 button');\n",
              "      quickchartButtonEl.style.display =\n",
              "        google.colab.kernel.accessAllowed ? 'block' : 'none';\n",
              "    })();\n",
              "  </script>\n",
              "</div>\n",
              "\n",
              "  <div id=\"id_d10bbfae-0041-4a24-9514-c3470c2493ec\">\n",
              "    <style>\n",
              "      .colab-df-generate {\n",
              "        background-color: #E8F0FE;\n",
              "        border: none;\n",
              "        border-radius: 50%;\n",
              "        cursor: pointer;\n",
              "        display: none;\n",
              "        fill: #1967D2;\n",
              "        height: 32px;\n",
              "        padding: 0 0 0 0;\n",
              "        width: 32px;\n",
              "      }\n",
              "\n",
              "      .colab-df-generate:hover {\n",
              "        background-color: #E2EBFA;\n",
              "        box-shadow: 0px 1px 2px rgba(60, 64, 67, 0.3), 0px 1px 3px 1px rgba(60, 64, 67, 0.15);\n",
              "        fill: #174EA6;\n",
              "      }\n",
              "\n",
              "      [theme=dark] .colab-df-generate {\n",
              "        background-color: #3B4455;\n",
              "        fill: #D2E3FC;\n",
              "      }\n",
              "\n",
              "      [theme=dark] .colab-df-generate:hover {\n",
              "        background-color: #434B5C;\n",
              "        box-shadow: 0px 1px 3px 1px rgba(0, 0, 0, 0.15);\n",
              "        filter: drop-shadow(0px 1px 2px rgba(0, 0, 0, 0.3));\n",
              "        fill: #FFFFFF;\n",
              "      }\n",
              "    </style>\n",
              "    <button class=\"colab-df-generate\" onclick=\"generateWithVariable('df')\"\n",
              "            title=\"Generate code using this dataframe.\"\n",
              "            style=\"display:none;\">\n",
              "\n",
              "  <svg xmlns=\"http://www.w3.org/2000/svg\" height=\"24px\"viewBox=\"0 0 24 24\"\n",
              "       width=\"24px\">\n",
              "    <path d=\"M7,19H8.4L18.45,9,17,7.55,7,17.6ZM5,21V16.75L18.45,3.32a2,2,0,0,1,2.83,0l1.4,1.43a1.91,1.91,0,0,1,.58,1.4,1.91,1.91,0,0,1-.58,1.4L9.25,21ZM18.45,9,17,7.55Zm-12,3A5.31,5.31,0,0,0,4.9,8.1,5.31,5.31,0,0,0,1,6.5,5.31,5.31,0,0,0,4.9,4.9,5.31,5.31,0,0,0,6.5,1,5.31,5.31,0,0,0,8.1,4.9,5.31,5.31,0,0,0,12,6.5,5.46,5.46,0,0,0,6.5,12Z\"/>\n",
              "  </svg>\n",
              "    </button>\n",
              "    <script>\n",
              "      (() => {\n",
              "      const buttonEl =\n",
              "        document.querySelector('#id_d10bbfae-0041-4a24-9514-c3470c2493ec button.colab-df-generate');\n",
              "      buttonEl.style.display =\n",
              "        google.colab.kernel.accessAllowed ? 'block' : 'none';\n",
              "\n",
              "      buttonEl.onclick = () => {\n",
              "        google.colab.notebook.generateWithVariable('df');\n",
              "      }\n",
              "      })();\n",
              "    </script>\n",
              "  </div>\n",
              "\n",
              "    </div>\n",
              "  </div>\n"
            ],
            "application/vnd.google.colaboratory.intrinsic+json": {
              "type": "dataframe",
              "variable_name": "df",
              "summary": "{\n  \"name\": \"df\",\n  \"rows\": 4,\n  \"fields\": [\n    {\n      \"column\": 0.85,\n      \"properties\": {\n        \"dtype\": \"number\",\n        \"std\": 7.826909294490914,\n        \"min\": 0.09928475403752729,\n        \"max\": 15.595108481198082,\n        \"num_unique_values\": 4,\n        \"samples\": [\n          13.979207818472064,\n          15.595108481198082,\n          0.09928475403752729\n        ],\n        \"semantic_type\": \"\",\n        \"description\": \"\"\n      }\n    },\n    {\n      \"column\": 0.9,\n      \"properties\": {\n        \"dtype\": \"number\",\n        \"std\": 5.1074713781932095,\n        \"min\": 0.40687353902758155,\n        \"max\": 11.972532728720672,\n        \"num_unique_values\": 4,\n        \"samples\": [\n          9.129441835006963,\n          11.972532728720672,\n          0.40687353902758155\n        ],\n        \"semantic_type\": \"\",\n        \"description\": \"\"\n      }\n    },\n    {\n      \"column\": 0.95,\n      \"properties\": {\n        \"dtype\": \"number\",\n        \"std\": 3.4057502739754564,\n        \"min\": 1.2487838100461408,\n        \"max\": 9.541519827140997,\n        \"num_unique_values\": 4,\n        \"samples\": [\n          5.35687678688147,\n          9.541519827140997,\n          1.2487838100461408\n        ],\n        \"semantic_type\": \"\",\n        \"description\": \"\"\n      }\n    },\n    {\n      \"column\": 1.0,\n      \"properties\": {\n        \"dtype\": \"number\",\n        \"std\": 2.8293943803576966,\n        \"min\": 2.82717811497094,\n        \"max\": 8.241259849956771,\n        \"num_unique_values\": 4,\n        \"samples\": [\n          2.82717811497094,\n          7.133008794282109,\n          2.8721129253652715\n        ],\n        \"semantic_type\": \"\",\n        \"description\": \"\"\n      }\n    },\n    {\n      \"column\": 1.05,\n      \"properties\": {\n        \"dtype\": \"number\",\n        \"std\": 3.7019665186362167,\n        \"min\": 1.378920501127488,\n        \"max\": 10.408985165448795,\n        \"num_unique_values\": 4,\n        \"samples\": [\n          1.378920501127488,\n          5.730407320740163,\n          5.181356642824845\n        ],\n        \"semantic_type\": \"\",\n        \"description\": \"\"\n      }\n    },\n    {\n      \"column\": 1.1,\n      \"properties\": {\n        \"dtype\": \"number\",\n        \"std\": 5.229129394741486,\n        \"min\": 0.6419453650650861,\n        \"max\": 12.994399022608077,\n        \"num_unique_values\": 4,\n        \"samples\": [\n          0.6419453650650861,\n          4.579475500052138,\n          7.860291807947015\n        ],\n        \"semantic_type\": \"\",\n        \"description\": \"\"\n      }\n    },\n    {\n      \"column\": 1.15,\n      \"properties\": {\n        \"dtype\": \"number\",\n        \"std\": 6.5488240229570245,\n        \"min\": 0.29139644213627053,\n        \"max\": 14.821695808173644,\n        \"num_unique_values\": 4,\n        \"samples\": [\n          0.29139644213627053,\n          3.8470384637959247,\n          10.628617507838877\n        ],\n        \"semantic_type\": \"\",\n        \"description\": \"\"\n      }\n    }\n  ]\n}"
            }
          },
          "metadata": {},
          "execution_count": 230
        }
      ]
    },
    {
      "cell_type": "markdown",
      "source": [
        "## **Step 2**"
      ],
      "metadata": {
        "id": "VsBwThhKW848"
      }
    },
    {
      "cell_type": "markdown",
      "source": [
        "Question 13"
      ],
      "metadata": {
        "id": "iik3M8v2g51w"
      }
    },
    {
      "cell_type": "code",
      "source": [
        "#Redeclaring variables\n",
        "S0_amer = 80\n",
        "T = 1/4 # 3 months\n",
        "M_amer= int(T * 255)\n",
        "v0_amer= 0.032\n",
        "Ite_amer = 1000000"
      ],
      "metadata": {
        "id": "5UWCf8NfnOZl"
      },
      "execution_count": null,
      "outputs": []
    },
    {
      "cell_type": "code",
      "source": [
        "def heston_american_call_mc(S, K, r, T, t):\n",
        "    payoff = np.zeros((M_amer + 1, Ite_amer), dtype=float)\n",
        "\n",
        "    #payoff = np.maximum(0, S[-1, :] - K)\n",
        "    # Option princing\n",
        "    for i in range(Ite_amer):\n",
        "        payoff[-1, i] = max(S[-1, i] - K, 0) # Option price at maturity\n",
        "\n",
        "    for j in range(M_amer-1, -1, -1):\n",
        "        for it in range(Ite_amer):\n",
        "            payoff[j, it] = max(S[j, it] - K,\n",
        "                             np.exp(-r*dt) * payoff[j+1, it]) # maximum of payoff and option price (discounted)\n",
        "\n",
        "\n",
        "    average = np.mean(payoff)\n",
        "\n",
        "    return average"
      ],
      "metadata": {
        "id": "mD-wh3eRfzgq"
      },
      "execution_count": null,
      "outputs": []
    },
    {
      "cell_type": "code",
      "source": [
        "V_Amer = SDE_vol(v0_amer, kappa, theta, sigma, T, M, Ite_amer, rand, 1, cho_matrix_1)\n",
        "S_Amer = Heston_paths(S0_amer, r, V_Amer, 0, cho_matrix_1)\n",
        "print(M)\n",
        "american_call_heston = heston_american_call_mc(S_Amer, S0, r, T, 0)\n",
        "print(\"ATM American call price using heston (when corr = -0.3): ${:.2f}\".format(american_call_heston))"
      ],
      "metadata": {
        "colab": {
          "base_uri": "https://localhost:8080/"
        },
        "id": "5kMKtk16hdPa",
        "outputId": "f268204b-4702-4536-e374-df152bbb288c"
      },
      "execution_count": null,
      "outputs": [
        {
          "output_type": "stream",
          "name": "stdout",
          "text": [
            "63\n",
            "ATM American call price using heston (when corr = -0.3): $4.40\n"
          ]
        }
      ]
    },
    {
      "cell_type": "code",
      "source": [
        "def merton_american_call_mc(S, K, r, sigma, T, M, iter, lamb, mu, delta):\n",
        "    dt = T / M\n",
        "\n",
        "    rj = lamb * (np.exp(mu + 0.5 * delta**2) - 1)\n",
        "\n",
        "    # Random numbers\n",
        "    z1 = np.random.standard_normal((M + 1, iter))\n",
        "    z2 = np.random.standard_normal((M + 1, iter))\n",
        "    y = np.random.poisson(lamb * dt, (M + 1, iter))\n",
        "\n",
        "    # Monte-Carlo Simulation of underlying prices\n",
        "    underlying = np.zeros((M+1, iter))\n",
        "    underlying[0] = S\n",
        "    for t in range(1, M + 1):\n",
        "        underlying[t] = underlying[t - 1] * (\n",
        "            np.exp((r - rj - 0.5 * sigma**2) * dt + sigma * np.sqrt(dt) * z1[t])\n",
        "            + (np.exp(mu + delta * z2[t]) - 1) * y[t]\n",
        "        )\n",
        "        underlying[t] = np.maximum(underlying[t], 0.00001)\n",
        "\n",
        "    # American call option prices\n",
        "    prc = np.zeros((M+1, iter))\n",
        "\n",
        "    # Option princing\n",
        "    for i in range(iter):\n",
        "        prc[-1, i] = max(underlying[-1, i] - K, 0) # Option price at maturity\n",
        "\n",
        "    for j in range(M-1, -1, -1):\n",
        "        for it in range(iter):\n",
        "            prc[j, it] = max(underlying[j, it] - K,\n",
        "                             np.exp(-r*dt) * prc[j+1, it]) # maximum of payoff and option price (discounted)\n",
        "\n",
        "    return sum(prc[0,:]) / iter"
      ],
      "metadata": {
        "id": "CONgHKg3WWYj"
      },
      "execution_count": null,
      "outputs": []
    },
    {
      "cell_type": "code",
      "source": [
        "merton_call_price_mc = merton_american_call_mc(S0, K, r, sigma, T, M, iter, lambda_8, mu, delta)\n",
        "print(f\"American call option price (Merton model) with Monte Carlo simulation: {round(merton_call_price_mc,2)}\")"
      ],
      "metadata": {
        "id": "-MOp2GVQW-Im",
        "colab": {
          "base_uri": "https://localhost:8080/"
        },
        "outputId": "fc682f2f-53fa-40ff-b26b-14725964a6ac"
      },
      "execution_count": null,
      "outputs": [
        {
          "output_type": "stream",
          "name": "stdout",
          "text": [
            "American call option price (Merton model) with Monte Carlo simulation: 14.21\n"
          ]
        }
      ]
    },
    {
      "cell_type": "markdown",
      "source": [
        "Comments:"
      ],
      "metadata": {
        "id": "oUcwc-TZhG7h"
      }
    },
    {
      "cell_type": "code",
      "source": [],
      "metadata": {
        "id": "3_vyXLLJW-K4"
      },
      "execution_count": null,
      "outputs": []
    },
    {
      "cell_type": "code",
      "source": [],
      "metadata": {
        "id": "mbU2HuJ7W-NA"
      },
      "execution_count": null,
      "outputs": []
    },
    {
      "cell_type": "markdown",
      "source": [
        "Question 14"
      ],
      "metadata": {
        "id": "wJnsiM7uhLsp"
      }
    },
    {
      "cell_type": "code",
      "source": [
        "S0 = 80\n",
        "r = 0.055\n",
        "sigma = 0.35\n",
        "T = 1/4 # 3 months\n",
        "K_uai = 95\n",
        "B_uai = 95\n",
        "\n",
        "v0 = 0.032\n",
        "kappa = 1.85\n",
        "theta = 0.045\n",
        "M=int(T * 255)\n",
        "Ite = 1000000\n",
        "dt = T/M"
      ],
      "metadata": {
        "id": "LjQrpv5NWWcO"
      },
      "execution_count": null,
      "outputs": []
    },
    {
      "cell_type": "code",
      "source": [
        "def uai_heston_call_mc(S, K, B, r, T, t):\n",
        "  is_up_and_in_payoff = np.zeros((M+1,Ite))\n",
        "\n",
        "  for i in range(M+1):\n",
        "    is_up_and_in_payoff[i] = np.where(S[i] >= B, S[i]-K, 0)\n",
        "\n",
        "\n",
        "  average = np.exp(-r *T)*is_up_and_in_payoff\n",
        "  average = np.mean(average)\n",
        "  print(average)\n",
        "  return average\n"
      ],
      "metadata": {
        "id": "MKWUyfsv6Csw"
      },
      "execution_count": null,
      "outputs": []
    },
    {
      "cell_type": "code",
      "source": [
        "V_ = SDE_vol(v0, kappa, theta, sigma, T, M, Ite, rand, 1, cho_matrix_2)\n",
        "\n",
        "S_uai = Heston_paths(S0, r, V_, 0, cho_matrix_2)"
      ],
      "metadata": {
        "id": "JoVCBGJCWFgb"
      },
      "execution_count": null,
      "outputs": []
    },
    {
      "cell_type": "code",
      "source": [
        "#print(S_uai)\n",
        "#print(S_uai[-1].shape)\n",
        "vanilla_price = heston_call_put_mc(S_uai, K_uai, r, T, 0, 'C')\n",
        "price_uai = uai_heston_call_mc(S_uai, K_uai, B_uai, r, T, 0)\n",
        "\n",
        "print(\"Vanilla European Call (when corr = -0.7):${:.2f}\".format(vanilla_price)) #Already calculated for ques 5\n",
        "print(\"UAI Option price (when corr = -0.7): ${:.4f}\".format(price_uai))"
      ],
      "metadata": {
        "id": "xLPczdmTWFii",
        "colab": {
          "base_uri": "https://localhost:8080/"
        },
        "outputId": "85b4639c-f5a3-41c1-e555-249e7d80d14e"
      },
      "execution_count": null,
      "outputs": [
        {
          "output_type": "stream",
          "name": "stdout",
          "text": [
            "0.0011987353033436879\n",
            "Vanilla European Call (when corr = -0.7):$0.01\n",
            "UAI Option price (when corr = -0.7): $0.0012\n"
          ]
        }
      ]
    },
    {
      "cell_type": "markdown",
      "source": [
        "##### Question 15."
      ],
      "metadata": {
        "id": "MsbL2h3Yp4Rx"
      }
    },
    {
      "cell_type": "code",
      "source": [
        "S0 = 80\n",
        "DAI_barrier = 65\n",
        "DAI_K = 65"
      ],
      "metadata": {
        "id": "aAEUsTU4p7iz"
      },
      "execution_count": null,
      "outputs": []
    },
    {
      "cell_type": "code",
      "source": [
        "def dai_put_merton_mc(S0, K, r, sigma, T, M, Iter, lamb, mu, delta, barrier):\n",
        "\n",
        "    dt = T / M\n",
        "    SM = np.zeros((M+1, Iter))\n",
        "    IS_IN = np.zeros((M+1, Iter))\n",
        "    IS_IN[0] = np.where(S0 <= barrier, 1, 0)\n",
        "    SM[0] = S0\n",
        "\n",
        "    rj = lamb * (np.exp(mu + 0.5 * delta**2) - 1)\n",
        "\n",
        "    # Random numbers\n",
        "    z1 = np.random.standard_normal((M + 1, Iter))\n",
        "    z2 = np.random.standard_normal((M + 1, Iter))\n",
        "    y = np.random.poisson(lamb * dt, (M + 1, Iter))\n",
        "\n",
        "    # Simulating prices\n",
        "    for t in range(1, M + 1):\n",
        "        SM[t] = SM[t - 1] * (\n",
        "            np.exp((r - rj - 0.5 * sigma**2) * dt + sigma * np.sqrt(dt) * z1[t])\n",
        "            + (np.exp(mu + delta * z2[t]) - 1) * y[t]\n",
        "        )\n",
        "        SM[t] = np.maximum(SM[t], 0.00001)\n",
        "        IS_IN[t] = np.where(SM[t] <= barrier, 1, IS_IN[t-1])\n",
        "\n",
        "    arr = K - SM[-1]\n",
        "\n",
        "    ST = (np.where(arr < 0, 0, arr)*IS_IN).mean() * np.exp(-r * T)\n",
        "    return ST"
      ],
      "metadata": {
        "id": "vkS1-1W3qEh5"
      },
      "execution_count": null,
      "outputs": []
    },
    {
      "cell_type": "code",
      "source": [
        "q15_simple_european_put = european_merton_mc(S0, DAI_K, r, sigma, T, M, iter, lambda_8, mu, delta, \"put\")\n",
        "q15_dai_put = dai_put_merton_mc(S0, DAI_K, r, sigma, T, M, iter, lambda_8, mu, delta, DAI_barrier)"
      ],
      "metadata": {
        "id": "1EiJCag2qB4E"
      },
      "execution_count": null,
      "outputs": []
    },
    {
      "cell_type": "code",
      "source": [
        "print(f'simple european put: {q15_simple_european_put:.2f}')\n",
        "print(f'DAI put: {q15_dai_put:.2f}')"
      ],
      "metadata": {
        "id": "CKJTtcuiqD8q",
        "colab": {
          "base_uri": "https://localhost:8080/"
        },
        "outputId": "2e9f4731-ba56-4224-ce32-a4aa49e0b173"
      },
      "execution_count": null,
      "outputs": [
        {
          "output_type": "stream",
          "name": "stdout",
          "text": [
            "simple european put: 2.81\n",
            "DAI put: 1.49\n"
          ]
        }
      ]
    }
  ]
}