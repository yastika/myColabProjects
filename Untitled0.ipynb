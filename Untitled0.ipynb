{
  "nbformat": 4,
  "nbformat_minor": 0,
  "metadata": {
    "colab": {
      "provenance": [],
      "authorship_tag": "ABX9TyOcZqQoQpqJnC7LmajeiL43",
      "include_colab_link": true
    },
    "kernelspec": {
      "name": "python3",
      "display_name": "Python 3"
    },
    "language_info": {
      "name": "python"
    }
  },
  "cells": [
    {
      "cell_type": "markdown",
      "metadata": {
        "id": "view-in-github",
        "colab_type": "text"
      },
      "source": [
        "<a href=\"https://colab.research.google.com/github/yastika/myColabProjects/blob/main/Untitled0.ipynb\" target=\"_parent\"><img src=\"https://colab.research.google.com/assets/colab-badge.svg\" alt=\"Open In Colab\"/></a>"
      ]
    },
    {
      "cell_type": "code",
      "execution_count": null,
      "metadata": {
        "id": "8eNa8u5nJUVF"
      },
      "outputs": [],
      "source": [
        "import matplotlib.pyplot as plt\n",
        "import numpy as np\n",
        "np.random.seed(42)"
      ]
    },
    {
      "cell_type": "code",
      "source": [
        "def vasicek(r0, K, theta, sigma, T, N, M):\n",
        "    dt = T / N\n",
        "    rates = np.zeros((N, M))\n",
        "    rates[0, :] = r0\n",
        "    for j in range(M):\n",
        "        for i in range(1, N):\n",
        "            np.random.seed(42)\n",
        "            dr = (\n",
        "                K * (theta - rates[i - 1, j]) * dt\n",
        "                + sigma * np.sqrt(dt) * np.random.normal()\n",
        "            )\n",
        "            rates[i, j] = rates[i - 1, j] + dr\n",
        "    return rates"
      ],
      "metadata": {
        "id": "ucLe6YeuJxTW"
      },
      "execution_count": null,
      "outputs": []
    },
    {
      "cell_type": "code",
      "source": [
        "M = 1  # Number of paths for MC\n",
        "N = 150  # Number of steps\n",
        "T = 1.0  # Maturity\n",
        "r0 = 0.01875\n",
        "K = 0.25\n",
        "theta = 0.02\n",
        "sigma = 1.80\n",
        "t = np.linspace(0, T, N)\n"
      ],
      "metadata": {
        "id": "2sG0KPyZJz_A"
      },
      "execution_count": null,
      "outputs": []
    },
    {
      "cell_type": "code",
      "source": [
        "M = 25  # Number of paths for MC\n",
        "N = 150  # Number of steps\n",
        "T = 1.0  # Maturity\n",
        "r0 = 0.0285\n",
        "K = 0.25\n",
        "theta = 0.025\n",
        "sigma = 2.75\n",
        "t = np.linspace(0, T, N)"
      ],
      "metadata": {
        "id": "up9yMB2Oamew"
      },
      "execution_count": null,
      "outputs": []
    },
    {
      "cell_type": "code",
      "source": [
        "#Quiz Ques 2\n",
        "M = 25  # Number of paths for MC\n",
        "N = 250  # Number of steps\n",
        "T = 3/12  # Maturity\n",
        "r0 = 0.0285\n",
        "K = 0.15\n",
        "theta = 0.0255\n",
        "sigma = 0.85\n",
        "t = np.linspace(0, T, N)"
      ],
      "metadata": {
        "id": "nlBIiNJd9UBf"
      },
      "execution_count": null,
      "outputs": []
    },
    {
      "cell_type": "code",
      "source": [
        "#Quiz Ques 14\n",
        "M = 1  # Number of paths for MC\n",
        "N = 250  # Number of steps\n",
        "T = 0.5  # Maturity\n",
        "r0 = 0.185\n",
        "K = 0.22\n",
        "theta = 0.018\n",
        "sigma = 1.75\n",
        "t = np.linspace(0, T, N)"
      ],
      "metadata": {
        "id": "Bw689MjQCeDt"
      },
      "execution_count": null,
      "outputs": []
    },
    {
      "cell_type": "code",
      "source": [
        "rates = vasicek(r0, K, theta, sigma, T, N, M)"
      ],
      "metadata": {
        "id": "dQ4TnluKKazJ"
      },
      "execution_count": null,
      "outputs": []
    },
    {
      "cell_type": "code",
      "source": [
        "print(np.min(rates))"
      ],
      "metadata": {
        "colab": {
          "base_uri": "https://localhost:8080/"
        },
        "id": "bkH2vjdzKbwH",
        "outputId": "a59fbb5c-95f6-44ea-d3e6-1457f57cc7d4"
      },
      "execution_count": null,
      "outputs": [
        {
          "output_type": "stream",
          "name": "stdout",
          "text": [
            "0.0285\n"
          ]
        }
      ]
    },
    {
      "cell_type": "code",
      "source": [
        "print(np.sum(rates)/251)"
      ],
      "metadata": {
        "colab": {
          "base_uri": "https://localhost:8080/"
        },
        "id": "C-6CdP6QC74v",
        "outputId": "0fc7a16b-033f-48c2-a6ee-dcd622f8306b"
      },
      "execution_count": null,
      "outputs": [
        {
          "output_type": "stream",
          "name": "stdout",
          "text": [
            "4.8253322547282425\n"
          ]
        }
      ]
    },
    {
      "cell_type": "code",
      "source": [
        "def bs_call_mc(S, K, r, sigma, T, t, Ite):\n",
        "    data = np.zeros((Ite, 2))\n",
        "    np.random.seed(42)\n",
        "    z = np.random.normal(0, 1, [1, Ite])\n",
        "    ST = S * np.exp((T - t) * (r - 0.5 * sigma**2) + sigma * np.sqrt(T - t) * z)\n",
        "    data[:, 1] = ST - K\n",
        "\n",
        "    average = np.sum(np.amax(data, axis=1)) / float(Ite)\n",
        "\n",
        "    return np.exp(-r * (T - t)) * average"
      ],
      "metadata": {
        "id": "S6nQ46XAKf7o"
      },
      "execution_count": null,
      "outputs": []
    },
    {
      "cell_type": "code",
      "source": [
        "print(\"Monte Carlo Price:\", bs_call_mc(22.75, 23, 0.02, 0.45, 7/12, 0, 2500))\n"
      ],
      "metadata": {
        "colab": {
          "base_uri": "https://localhost:8080/"
        },
        "id": "rr7eiqYDQn21",
        "outputId": "165f2a9f-2b65-43bc-c1c8-b9a30925b0f2"
      },
      "execution_count": null,
      "outputs": [
        {
          "output_type": "stream",
          "name": "stdout",
          "text": [
            "Monte Carlo Price: 3.186889827455348\n"
          ]
        }
      ]
    },
    {
      "cell_type": "code",
      "source": [
        "print(\"Monte Carlo Price 2:\",bs_call_mc(38.75, 42, 0.01, 0.55, 5/12, 0, 4500))"
      ],
      "metadata": {
        "colab": {
          "base_uri": "https://localhost:8080/"
        },
        "id": "AnKBCKFW8iyQ",
        "outputId": "8b544ecd-6ddc-4b8b-993e-9c734d663a84"
      },
      "execution_count": null,
      "outputs": [
        {
          "output_type": "stream",
          "name": "stdout",
          "text": [
            "Monte Carlo Price 2: 4.268857657945811\n"
          ]
        }
      ]
    },
    {
      "cell_type": "code",
      "source": [
        "import scipy.stats as ss\n",
        "T = 1.0  # supposed in years. It is not the maturity, but the time to maturity\n",
        "S = 12.5\n",
        "K = 15.0\n",
        "r = 0.01\n",
        "vol = 0.45  # supposing it is annual\n",
        "option_type = \"C\"  # for the put insert 'P'\n",
        "# dividend yield assumed to be 0\n",
        "d1 = (np.log(S / K) + (r + 0.5 * vol**2) * T) / (vol * np.sqrt(T))\n",
        "d2 = d1 - vol * np.sqrt(T)\n",
        "Gamma = ss.norm.pdf(d1) / (S * vol * np.sqrt(T))\n",
        "Theta = -(S * ss.norm.pdf(d1) * vol) / (2 * np.sqrt(T)) + r * K * np.exp(\n",
        "            -r * T\n",
        "        ) * ss.norm.cdf(-d2)\n",
        "Delta = -ss.norm.cdf(-d1)"
      ],
      "metadata": {
        "id": "PpZcy8jFRG9z"
      },
      "execution_count": null,
      "outputs": []
    },
    {
      "cell_type": "code",
      "source": [
        "print(Gamma)\n",
        "print(Theta)\n",
        "print(Delta)"
      ],
      "metadata": {
        "colab": {
          "base_uri": "https://localhost:8080/"
        },
        "id": "Sc1AEpCyTxIH",
        "outputId": "b06d72be-cff4-4528-de9c-ab7e56c1f6ea"
      },
      "execution_count": null,
      "outputs": [
        {
          "output_type": "stream",
          "name": "stdout",
          "text": [
            "0.0700440116557032\n",
            "-0.9999474910731819\n",
            "-0.5627466973133798\n"
          ]
        }
      ]
    },
    {
      "cell_type": "code",
      "source": [
        "T = 1  # years\n",
        "N = 1  # Number of points, number of subintervals = N-1\n",
        "dt = T / N  # Time step in \"years\"\n",
        "t = np.linspace(0, T, N)\n",
        "M = 1\n",
        "vol = 0.20\n",
        "S0 = 100\n",
        "mu = 0.1  # drift\n",
        "np.random.seed(1)\n",
        "dS = S0 * (mu * dt + vol * np.sqrt(dt) * np.random.randn(M,N))\n",
        "S = S0 + np.cumsum(dS, axis=1)"
      ],
      "metadata": {
        "id": "6vcz98KsT0eJ"
      },
      "execution_count": null,
      "outputs": []
    },
    {
      "cell_type": "code",
      "source": [
        "print(S)"
      ],
      "metadata": {
        "colab": {
          "base_uri": "https://localhost:8080/"
        },
        "id": "7GXCENdxYdoa",
        "outputId": "40c91957-be50-403d-d095-f830bd8234b5"
      },
      "execution_count": null,
      "outputs": [
        {
          "output_type": "stream",
          "name": "stdout",
          "text": [
            "[[142.48690727]]\n"
          ]
        }
      ]
    },
    {
      "cell_type": "code",
      "source": [
        "from scipy.stats import lognorm, norm\n",
        "def bs_call_price(S, r, sigma, t, T, K):\n",
        "    ttm = T - t\n",
        "\n",
        "    if ttm < 0:\n",
        "        return 0.0\n",
        "    elif ttm == 0.0:\n",
        "        return np.maximum(S - K, 0.0)\n",
        "\n",
        "    vol = sigma * np.sqrt(ttm)\n",
        "\n",
        "    d_minus = np.log(S / K) + (r - 0.5 * sigma**2) * ttm\n",
        "    d_minus /= vol\n",
        "\n",
        "    d_plus = d_minus + vol\n",
        "\n",
        "    res = S * norm.cdf(d_plus)\n",
        "    res -= K * np.exp(-r * ttm) * norm.cdf(d_minus)\n",
        "\n",
        "    return res"
      ],
      "metadata": {
        "id": "u9W2POgFYvWT"
      },
      "execution_count": null,
      "outputs": []
    },
    {
      "cell_type": "code",
      "source": [
        "print(bs_call_price(124.0, 0.0175, 0.25, 0, 0.25, 124.0))"
      ],
      "metadata": {
        "colab": {
          "base_uri": "https://localhost:8080/"
        },
        "id": "FdW15PH8ZES3",
        "outputId": "a8f64f53-925a-4bc9-e75b-9eac99791705"
      },
      "execution_count": null,
      "outputs": [
        {
          "output_type": "stream",
          "name": "stdout",
          "text": [
            "6.440522540754287\n"
          ]
        }
      ]
    },
    {
      "cell_type": "code",
      "source": [
        "print(bs_call_price(18.5, 0.015, 0.25, 0, 0.25, 12.0))"
      ],
      "metadata": {
        "colab": {
          "base_uri": "https://localhost:8080/"
        },
        "id": "0LgP9O49ZaTu",
        "outputId": "4417c536-478c-45ca-d9da-25fad27ebc09"
      },
      "execution_count": null,
      "outputs": [
        {
          "output_type": "stream",
          "name": "stdout",
          "text": [
            "6.545027356283008\n"
          ]
        }
      ]
    },
    {
      "cell_type": "code",
      "source": [
        "import numpy.random as npr\n",
        "r = 0.015\n",
        "sigma = 0.25\n",
        "T = 0.25\n",
        "S0 = 18.5\n",
        "\n",
        "Ite = 100000\n",
        "M = 5000\n",
        "\n",
        "dt = T / M\n",
        "\n",
        "S = np.zeros((M + 1, Ite))\n",
        "S[0] = S0\n",
        "npr.seed(0)\n",
        "for t in range(1, M + 1):\n",
        "    S[t] = S[t - 1] * np.exp(\n",
        "        (r - 0.5 * sigma**2) * dt + sigma * np.sqrt(dt) * npr.standard_normal()\n",
        "    )\n"
      ],
      "metadata": {
        "id": "BkUOYMsScf4p"
      },
      "execution_count": null,
      "outputs": []
    },
    {
      "cell_type": "code",
      "source": [
        "print(np.mean(S))"
      ],
      "metadata": {
        "colab": {
          "base_uri": "https://localhost:8080/"
        },
        "id": "L1di71XRdp8i",
        "outputId": "bf9ef39a-1a57-4988-88a5-95f14f094f0b"
      },
      "execution_count": null,
      "outputs": [
        {
          "output_type": "stream",
          "name": "stdout",
          "text": [
            "16.6295382816805\n"
          ]
        }
      ]
    },
    {
      "cell_type": "code",
      "source": [
        "def bs_call_mc(S, K, r, sigma, T, t, Ite):\n",
        "    data = np.zeros((Ite, 2))\n",
        "    z = np.random.normal(0, 1, [1, Ite])\n",
        "    ST = S * np.exp((T - t) * (r - 0.5 * sigma**2) + sigma * np.sqrt(T - t) * z)\n",
        "    data[:, 1] = ST - K\n",
        "\n",
        "    average = np.sum(np.amax(data, axis=1)) / float(Ite)\n",
        "\n",
        "    return np.exp(-r * (T - t)) * average"
      ],
      "metadata": {
        "id": "q3qtNwmUERRA"
      },
      "execution_count": null,
      "outputs": []
    },
    {
      "cell_type": "code",
      "source": [
        "print(bs_call_mc(18.5,12,0.015,0.25,0.25,0,5000))"
      ],
      "metadata": {
        "colab": {
          "base_uri": "https://localhost:8080/"
        },
        "id": "hwelXXZ0ESkO",
        "outputId": "a3dd99ed-67a0-431e-f62e-6fc80c2adc1c"
      },
      "execution_count": null,
      "outputs": [
        {
          "output_type": "stream",
          "name": "stdout",
          "text": [
            "6.491006424812446\n"
          ]
        }
      ]
    },
    {
      "cell_type": "code",
      "source": [
        "def bs_put_mc(S, K, r, sigma, T, t, Ite):\n",
        "    data = np.zeros((Ite, 2))\n",
        "    np.random.seed(42)\n",
        "    z = np.random.normal(0, 1, [1, Ite])\n",
        "    ST = S * np.exp((T - t) * (r - 0.5 * sigma**2) + sigma * np.sqrt(T - t) * z)\n",
        "    data[:, 1] =  K - ST\n",
        "\n",
        "    average = np.sum(np.amax(data, axis=1)) / float(Ite)\n",
        "\n",
        "    return np.exp(-r * (T - t)) * average"
      ],
      "metadata": {
        "id": "koPhOW-y-p5c"
      },
      "execution_count": null,
      "outputs": []
    },
    {
      "cell_type": "code",
      "source": [
        "print(bs_call_mc(118.75,122,0.015,0.25,1.5,0,3000))"
      ],
      "metadata": {
        "colab": {
          "base_uri": "https://localhost:8080/"
        },
        "id": "M0J_nNaH-v-T",
        "outputId": "997eb98c-6e2a-4244-ec79-5ef42e9d277e"
      },
      "execution_count": null,
      "outputs": [
        {
          "output_type": "stream",
          "name": "stdout",
          "text": [
            "14.611188758237006\n"
          ]
        }
      ]
    },
    {
      "cell_type": "code",
      "source": [
        "from scipy.stats import lognorm, norm\n",
        "def bs_put_price(S, r, sigma, t, T, K):\n",
        "    ttm = T - t\n",
        "\n",
        "    if ttm < 0:\n",
        "        return 0.0\n",
        "    elif ttm == 0.0:\n",
        "        return np.maximum(K - S, 0.0)\n",
        "\n",
        "    vol = sigma * np.sqrt(ttm)\n",
        "\n",
        "    d_minus = np.log(S / K) + (r - 0.5 * sigma**2) * ttm\n",
        "    d_minus /= vol\n",
        "\n",
        "    d_plus = d_minus + vol\n",
        "\n",
        "    res = S * norm.cdf(d_plus)\n",
        "    res -= K * np.exp(-r * ttm) * norm.cdf(d_minus)\n",
        "\n",
        "    return res"
      ],
      "metadata": {
        "id": "r9ad43qnAr8g"
      },
      "execution_count": null,
      "outputs": []
    },
    {
      "cell_type": "code",
      "source": [
        "print(bs_call_price(32.5, 0.0275, 0.45, 0, 4/12, 27.5))"
      ],
      "metadata": {
        "colab": {
          "base_uri": "https://localhost:8080/"
        },
        "id": "lTp9xiLiAxgc",
        "outputId": "8ff86a68-9bb7-4f95-b433-76ee0c3d412b"
      },
      "execution_count": null,
      "outputs": [
        {
          "output_type": "stream",
          "name": "stdout",
          "text": [
            "6.391440240040197\n"
          ]
        }
      ]
    },
    {
      "cell_type": "code",
      "source": [
        "6.545027356283008-4.9595382816804995"
      ],
      "metadata": {
        "colab": {
          "base_uri": "https://localhost:8080/"
        },
        "id": "69aZ6Z-9dzPR",
        "outputId": "908940c3-6291-40e5-fb9c-f4178ecffe87"
      },
      "execution_count": null,
      "outputs": [
        {
          "output_type": "execute_result",
          "data": {
            "text/plain": [
              "1.585489074602508"
            ]
          },
          "metadata": {},
          "execution_count": 20
        }
      ]
    },
    {
      "cell_type": "code",
      "source": [
        "data = [[1,2,3],[3,4,5]]"
      ],
      "metadata": {
        "id": "Rz8eiPixecJl"
      },
      "execution_count": null,
      "outputs": []
    },
    {
      "cell_type": "code",
      "source": [
        " # Black-Scholes model in Python\n",
        "import numpy as np\n",
        "import scipy.stats as ss\n",
        "\n",
        "# Data for input in Black-Scholes formula:\n",
        "\n",
        "T = 2.0  # supposed in years. It is not the maturity, but the time to maturity\n",
        "S = 100.0\n",
        "K = 105.0\n",
        "r = 0\n",
        "vol = 0.20  # supposing it is annual\n",
        "option_type = \"C\"  # for the put insert 'P'\n",
        "# dividend yield assumed to be 0\n",
        "\n",
        "# Compute d1 and d2\n",
        "d1 = (np.log(S / K) + (r + 0.5 * vol**2) * T) / (vol * np.sqrt(T))\n",
        "d2 = d1 - vol * np.sqrt(T)\n",
        " #Call\n",
        "Opt_Price = S * ss.norm.cdf(d1) - K * np.exp(-r * T) * ss.norm.cdf(d2)\n",
        "Delta = ss.norm.cdf(d1)\n",
        "Gamma = ss.norm.pdf(d1) / (S * vol * np.sqrt(T))\n",
        "Vega = S * ss.norm.pdf(d1) * np.sqrt(T)\n",
        "Theta = -(S * ss.norm.pdf(d1) * vol) / (2 * np.sqrt(T)) - r * K * np.exp(\n",
        "            -r * T\n",
        "        ) * ss.norm.cdf(d2)\n",
        "Rho = K * T * np.exp(-r * T) * ss.norm.cdf(d2)\n",
        "#Put\n",
        "Opt_Price = K * np.exp(-r * T) * ss.norm.cdf(-d2) - S * ss.norm.cdf(-d1)\n",
        "Delta = -ss.norm.cdf(-d1)\n",
        "Gamma = ss.norm.pdf(d1) / (S * vol * np.sqrt(T))\n",
        "Vega = S * ss.norm.pdf(d1) * np.sqrt(T)\n",
        "Theta = -(S * ss.norm.pdf(d1) * vol) / (2 * np.sqrt(T)) + r * K * np.exp(\n",
        "            -r * T\n",
        "        ) * ss.norm.cdf(-d2)\n",
        "Rho = -K * T * np.exp(-r * T) * ss.norm.cdf(-d2)"
      ],
      "metadata": {
        "id": "U8Ykl1AcKCcL"
      },
      "execution_count": null,
      "outputs": []
    },
    {
      "cell_type": "code",
      "source": [
        "import matplotlib.pyplot as plt\n",
        "\n",
        "fig = plt.figure()\n",
        "\n",
        "T = 1  # years\n",
        "N = 255  # Number of points, number of subintervals = N-1\n",
        "dt = T / N  # Time step in \"years\"\n",
        "t = np.linspace(0, T, N)\n",
        "M = 100  # Number of paths (Monte Carlo approach)\n",
        "vol = 0.18\n",
        "S0 = 10\n",
        "mu = 0.08  # drift\n",
        "\n",
        "dS = S0 * (mu * dt + vol * np.sqrt(dt) * np.random.randn(M, N))\n",
        "S = S0 + np.cumsum(dS, axis=1)\n"
      ],
      "metadata": {
        "id": "U-3Sw15LtltQ"
      },
      "execution_count": null,
      "outputs": []
    },
    {
      "cell_type": "code",
      "source": [
        "T = 1/6  # supposed in years. It is not the maturity, but the time to maturity\n",
        "S = 32.5\n",
        "K = 35.0\n",
        "r = 0.01\n",
        "vol = 0.45\n",
        "d1 = (np.log(S / K) + (r + 0.5 * vol**2) * T) / (vol * np.sqrt(T))\n",
        "d2 = d1 - vol * np.sqrt(T)\n",
        "Rho = K * T * np.exp(-r * T) * ss.norm.cdf(d2)"
      ],
      "metadata": {
        "id": "WttSDPHtDk2S"
      },
      "execution_count": null,
      "outputs": []
    },
    {
      "cell_type": "code",
      "source": [
        "print(Rho)"
      ],
      "metadata": {
        "id": "y_dwmqmdEp5U",
        "outputId": "7d088cf6-a6a7-49c9-9974-c15e3b689fd5",
        "colab": {
          "base_uri": "https://localhost:8080/"
        }
      },
      "execution_count": null,
      "outputs": [
        {
          "output_type": "stream",
          "name": "stdout",
          "text": [
            "1.825244880931774\n"
          ]
        }
      ]
    },
    {
      "cell_type": "code",
      "source": [
        "# LIBRARIES WE USE IN THE NOTEBOOK\n",
        "import matplotlib.pyplot as plt\n",
        "import numpy as np\n",
        "from numpy.random import rand, seed\n",
        "from scipy.stats import norm"
      ],
      "metadata": {
        "id": "n-sMU1jXErtL"
      },
      "execution_count": 1,
      "outputs": []
    },
    {
      "cell_type": "code",
      "source": [
        "def tauchen_method(RHO, SIGMA, LAMBDA, N_GRID):\n",
        "    start_tauchen = -LAMBDA * SIGMA / (1 - RHO**2) ** 0.5\n",
        "    end_tauchen = -start_tauchen\n",
        "    zgrid_tauchen = np.linspace(start_tauchen, end_tauchen, N_GRID)\n",
        "    zmid_points = (zgrid_tauchen[1:] + zgrid_tauchen[:-1]) / 2\n",
        "    P_tauchen = np.zeros((N_GRID, N_GRID))\n",
        "    P_tauchen[:, 0] = norm.cdf((zmid_points[0] - RHO * zgrid_tauchen) / SIGMA)\n",
        "    P_tauchen[:, -1] = 1.0 - norm.cdf((zmid_points[-1] - RHO * zgrid_tauchen) / SIGMA)\n",
        "    for i in range(0, N_GRID):\n",
        "        for j in range(1, N_GRID - 1):\n",
        "            P_tauchen[i, j] = norm.cdf(\n",
        "                (zmid_points[j] - RHO * zgrid_tauchen[i]) / SIGMA\n",
        "            ) - norm.cdf((zmid_points[j - 1] - RHO * zgrid_tauchen[i]) / SIGMA)\n",
        "    return P_tauchen, zgrid_tauchen"
      ],
      "metadata": {
        "id": "-jU5TKukKTi1"
      },
      "execution_count": 2,
      "outputs": []
    },
    {
      "cell_type": "code",
      "source": [
        "RHO = 0.5\n",
        "SIGMA = 0.1\n",
        "N_GRID = 3\n",
        "LAMBDA = 2.0"
      ],
      "metadata": {
        "id": "VOCjC780KgRQ"
      },
      "execution_count": 7,
      "outputs": []
    },
    {
      "cell_type": "code",
      "source": [
        "P_tauchen, zgrid_tauchen = tauchen_method(RHO, SIGMA, LAMBDA, N_GRID)"
      ],
      "metadata": {
        "id": "k-0HbBRfLAte"
      },
      "execution_count": 8,
      "outputs": []
    },
    {
      "cell_type": "code",
      "source": [
        "print(P_tauchen)\n",
        "print(zgrid_tauchen)"
      ],
      "metadata": {
        "colab": {
          "base_uri": "https://localhost:8080/"
        },
        "id": "sFPS9BcSLDo1",
        "outputId": "e8dffe61-50c0-47f9-886b-9d64813fc30f"
      },
      "execution_count": 9,
      "outputs": [
        {
          "output_type": "stream",
          "name": "stdout",
          "text": [
            "[[0.5        0.48953933 0.01046067]\n",
            " [0.12410654 0.75178692 0.12410654]\n",
            " [0.01046067 0.48953933 0.5       ]]\n",
            "[-0.23094011  0.          0.23094011]\n"
          ]
        }
      ]
    },
    {
      "cell_type": "code",
      "source": [
        "ydata = [0.4,-0.5]\n",
        "ydatapd = np.array(ydata)\n",
        "YData = ydatapd\n",
        "#print(YData)\n",
        "\n",
        "mu_hat0 = [2,4]* np.ones(len(ydatapd))\n",
        "sigma_hat0 = [0.1, 0.1] * np.ones(len(ydatapd))\n",
        "\n",
        "P_hat0 = np.zeros((2, 2))\n",
        "P_hat0[0, 0] = 0.55\n",
        "P_hat0[0, 1] = 1 - P_hat0[0, 0]\n",
        "P_hat0[1, 1] = 0.3\n",
        "P_hat0[1, 0] = 1 - P_hat0[1, 1]\n",
        "\n",
        "pi_hat0 = [0.5, 0.5] * np.ones((2))\n",
        "\n",
        "for t in range(1, 100):\n",
        "    pi_hat0 = np.dot(P_hat0.T, pi_hat0)"
      ],
      "metadata": {
        "id": "ZaNjy6wJLJqg"
      },
      "execution_count": 29,
      "outputs": []
    },
    {
      "cell_type": "code",
      "source": [
        "# seed random number generator\n",
        "seed(12345)\n",
        "\n",
        "np.set_printoptions(precision=3, suppress=True)\n",
        "\n",
        "P0 = np.array(\n",
        "    [\n",
        "        [0.9, 0.09, 0.01],\n",
        "        [0.2, 0.75, 0.05],\n",
        "        [0, 0, 1],\n",
        "\n",
        "    ]\n",
        ")\n",
        "\n",
        "# Normalize transition matrix, ignoring NR type\n",
        "P = P0[:, 0 : P0.shape[1]]  # noQA E203\n",
        "print(P)\n",
        "P = (P.T / np.sum(P, axis=1)).T\n",
        "\n",
        "# Verify where the ratings process converges given these estimates\n",
        "P10 = np.linalg.matrix_power(P, 10)\n",
        "print(P10)\n",
        "\n",
        "P40 = np.linalg.matrix_power(P, 200)\n",
        "print(P40)\n",
        "\n",
        "# SAMPLING FROM THE MARKOV CHAIN\n",
        "# Simulate how long it takes a firm to default starting with some current rating\n",
        "RATINGS = dict(\n",
        "    [\n",
        "        (\"BBB\", 0),\n",
        "        (\"CCC\", 1),\n",
        "        (\"D\", 2),\n",
        "    ]\n",
        ")\n",
        "CURR_RATING = \"BBB\"\n",
        "\n",
        "N_HISTORIES = 1000\n",
        "LEN_HIST = 100\n",
        "histories = np.zeros((N_HISTORIES, LEN_HIST), np.int8)\n",
        "histories[:, 0] = RATINGS[CURR_RATING]\n",
        "randarray = rand(N_HISTORIES, LEN_HIST)\n",
        "\n",
        "default_time = np.zeros(N_HISTORIES)\n",
        "default_sum = 0\n",
        "\n",
        "for i in range(0, N_HISTORIES):\n",
        "    for j in range(1, LEN_HIST):\n",
        "        for r in RATINGS:\n",
        "            if randarray[i, j] < np.cumsum(P[histories[i, j - 1], :])[RATINGS[r]]:\n",
        "                histories[i, j] = RATINGS[r]\n",
        "                break\n",
        "        if histories[i, j] == RATINGS[\"D\"]:\n",
        "            break\n",
        "    # Compute the average time to default\n",
        "    if np.max(histories[i, :]) == RATINGS[\"D\"]:\n",
        "        where_default = np.where((histories[i, :] == RATINGS[\"D\"]))\n",
        "        default_time[i] = where_default[0][0]\n",
        "        default_sum += 1\n",
        "    else:\n",
        "        default_time[i] = 0.0\n",
        "\n",
        "print(\"Default time:\", np.sum(default_time) / default_sum)"
      ],
      "metadata": {
        "colab": {
          "base_uri": "https://localhost:8080/"
        },
        "id": "jsquvT1LO_FG",
        "outputId": "7492f895-7580-44d9-f5e0-c2b0f9360242"
      },
      "execution_count": 38,
      "outputs": [
        {
          "output_type": "stream",
          "name": "stdout",
          "text": [
            "[[0.9  0.09 0.01]\n",
            " [0.2  0.75 0.05]\n",
            " [0.   0.   1.  ]]\n",
            "[[0.605 0.231 0.165]\n",
            " [0.513 0.22  0.267]\n",
            " [0.    0.    1.   ]]\n",
            "[[0.01  0.004 0.986]\n",
            " [0.009 0.003 0.988]\n",
            " [0.    0.    1.   ]]\n",
            "Default time: 35.662100456621005\n"
          ]
        }
      ]
    },
    {
      "cell_type": "code",
      "source": [
        "# Set guess of initial distribution and vector of mu's\n",
        "pi0 = [0.2, 0.8]\n",
        "mu = [-1, 1]\n",
        "xi_prob_t, xi_prob_t1 = forward_alg(pi0, 2, T_SAMPLE, P, mu, SIGMA, Yarray)\n",
        "print(xi_prob_t)\n",
        "\n",
        "# Test Log likelihood evaluation\n",
        "y_like = likelihood(xi_prob_t[20, :], mu, SIGMA, Yarray[20])\n",
        "theta = np.reshape(P, 2 * 2)\n",
        "theta = np.append(theta, mu, axis=0)\n",
        "theta = np.append(theta, [SIGMA], axis=0)\n",
        "\n",
        "sum_log_like = log_likelihood(theta, pi0, 2, T_SAMPLE, Yarray)\n",
        "\n",
        "print(sum_log_like)"
      ],
      "metadata": {
        "colab": {
          "base_uri": "https://localhost:8080/"
        },
        "id": "6IhFqm3JYxnl",
        "outputId": "3d440cce-4583-4ce4-86b2-71f02b418f46"
      },
      "execution_count": 45,
      "outputs": [
        {
          "output_type": "stream",
          "name": "stdout",
          "text": [
            "[[0.761 0.239]\n",
            " [0.627 0.373]\n",
            " [0.972 0.028]\n",
            " ...\n",
            " [0.748 0.252]\n",
            " [0.852 0.148]\n",
            " [0.948 0.052]]\n",
            "[ 0.75  0.25  0.75  0.25 -1.    1.    1.  ]\n",
            "1283.8351982994027\n"
          ]
        }
      ]
    },
    {
      "cell_type": "code",
      "source": [
        "import matplotlib.pyplot as plt\n",
        "import numpy as np\n",
        "import scipy.optimize as sco\n",
        "from numpy.random import rand, seed\n",
        "from scipy.stats import norm"
      ],
      "metadata": {
        "id": "3Sw02XKIywoh"
      },
      "execution_count": 8,
      "outputs": []
    },
    {
      "cell_type": "code",
      "source": [
        "def likelihood_(xi_prob, mu, sigma, y):\n",
        "  phi = np.zeros((len(xi_prob),))\n",
        "  for i in range(len(xi_prob)):\n",
        "    phi[i] = norm.pdf((y - mu[i]) / sigma)\n",
        "  y_like = np.dot(xi_prob, phi)\n",
        "  return y_like"
      ],
      "metadata": {
        "id": "wkGBTlqby2mu"
      },
      "execution_count": 11,
      "outputs": []
    },
    {
      "cell_type": "code",
      "source": [
        "def likelihood(xi_prob, mu, sigma, y):\n",
        "    phi = norm.pdf((y - mu) / sigma)\n",
        "    y_like = np.dot(xi_prob, phi)\n",
        "\n",
        "    return y_like"
      ],
      "metadata": {
        "id": "XhnjuVx9YAU1"
      },
      "execution_count": 12,
      "outputs": []
    },
    {
      "cell_type": "code",
      "source": [
        "N = 2\n",
        "xi_prob_t = np.array([0.2,0.8])\n",
        "mu = np.array([-1,1])\n",
        "T = 1\n",
        "P = np.array([[0.75,0.25],[0.25,0.75]])\n",
        "Y = -0.5\n",
        "sigma = 1\n",
        "\n",
        "xi_prob_t1 = np.dot(P, xi_prob_t)\n",
        "print(xi_prob_t1)\n",
        "\n",
        "y_like = likelihood(xi_prob_t1, mu, sigma, Y)\n",
        "print(y_like)\n",
        "phi = np.zeros((N))\n",
        "for ss2 in range(0, N):\n",
        "  phi[ss2] = norm.pdf((Y - mu[ss2]) / sigma)\n",
        "xi_prob_t = np.multiply(xi_prob_t1, phi) / y_like\n",
        "xi_prob_t1 = np.dot(P, xi_prob_t)\n",
        "\n",
        "print(xi_prob_t)\n",
        "print(xi_prob_t1)\n"
      ],
      "metadata": {
        "colab": {
          "base_uri": "https://localhost:8080/"
        },
        "id": "-jmt_72sdTGG",
        "outputId": "8ed9f915-003e-4b65-9706-bf490535ce27"
      },
      "execution_count": 16,
      "outputs": [
        {
          "output_type": "stream",
          "name": "stdout",
          "text": [
            "[0.35 0.65]\n",
            "0.2074093015503345\n",
            "[0.59410481 0.40589519]\n",
            "[0.54705241 0.45294759]\n"
          ]
        }
      ]
    },
    {
      "cell_type": "code",
      "source": [
        "import numpy as np\n",
        "\n",
        "xi_prob_t = np.array([0.2, 0.6, 0.2])\n",
        "xi_prob_t1 = np.array([0.3, 0.4, 0.3])\n",
        "xi_prob_T1 = np.array([0.25, 0.5, 0.25])\n",
        "\n",
        "P = np.array([[0.5, 0.25, 0.25],[0.25, 0.5, 0.25],[0.25, 0.25,0.5]])\n",
        "\n",
        "N = 3\n",
        "T = 1\n",
        "\n",
        "print(P.shape)\n",
        "d = np.array(P[0,:]).reshape(1,3)\n",
        "print(P[0,:].shape)\n",
        "print(type(P[0]))\n",
        "print(d.shape)\n",
        "\n",
        "def backward_alg(xi_prob_t, xi_prob_t1, N, T, P):\n",
        "    xi_prob_T = np.zeros((T, N))\n",
        "    xi_prob_T= xi_prob_t\n",
        "\n",
        "    xi_T_xi = np.divide(xi_prob_T, xi_prob_t1)\n",
        "    print(xi_T_xi.shape)\n",
        "    for ss in range(0, N):\n",
        "      #F = np.array(P[ss, :]).reshape()\n",
        "      print(P[ss, :])\n",
        "      temp = np.dot(P[ss, :], xi_T_xi)\n",
        "      print(temp)\n",
        "      xi_prob_T[ss] = xi_prob_t[ss] * temp\n",
        "\n",
        "    return xi_prob_T  # , xi_prob_T1\n",
        "\n",
        "new = backward_alg(xi_prob_t, xi_prob_t1, N, T, P)\n",
        "\n",
        "print(new)"
      ],
      "metadata": {
        "colab": {
          "base_uri": "https://localhost:8080/"
        },
        "id": "-wip-FEhySl1",
        "outputId": "68c19c33-abf0-4848-fa62-84bb1fa612b7"
      },
      "execution_count": 7,
      "outputs": [
        {
          "output_type": "stream",
          "name": "stdout",
          "text": [
            "(3, 3)\n",
            "(3,)\n",
            "<class 'numpy.ndarray'>\n",
            "(1, 3)\n",
            "(3,)\n",
            "[0.5  0.25 0.25]\n",
            "0.875\n",
            "[0.25 0.5  0.25]\n",
            "1.0833333333333333\n",
            "[0.25 0.25 0.5 ]\n",
            "0.875\n",
            "[0.175 0.65  0.175]\n"
          ]
        }
      ]
    },
    {
      "cell_type": "code",
      "source": [
        "P = [[0.5, 0.25, 0.25],\n",
        "     [0.25, 0.5, 0.25],\n",
        "     [0.25, 0.25, 0.5]]\n",
        "\n",
        "xi_prob_t = [0.2, 0.4, 0.4]\n",
        "xi_prob_t1 = np.dot(P, xi_prob_t)\n",
        "print(xi_prob_t)"
      ],
      "metadata": {
        "colab": {
          "base_uri": "https://localhost:8080/"
        },
        "id": "Ln-jtGpMgzYU",
        "outputId": "4cf18a78-8f16-4d78-9100-591e4f80fb11"
      },
      "execution_count": 66,
      "outputs": [
        {
          "output_type": "stream",
          "name": "stdout",
          "text": [
            "[0.2, 0.4, 0.4]\n"
          ]
        }
      ]
    },
    {
      "cell_type": "code",
      "source": [
        "RHO = 0.5\n",
        "SIGMA = 0.1\n",
        "N_GRID = 3\n",
        "\n",
        "def rouwen_method(RHO, SIGMA, N_GRID):\n",
        "    p_rouwen = (1 + RHO) * 0.5\n",
        "    q_rouwen = p_rouwen\n",
        "    start_rouwen = -(((N_GRID - 1) / (1 - RHO**2)) ** 0.5) * SIGMA\n",
        "    end_rouwen = -start_rouwen\n",
        "    zgrid_rouwen = np.linspace(start_rouwen, end_rouwen, N_GRID)\n",
        "    P_rouwen = np.append(\n",
        "        [[p_rouwen, 1.0 - p_rouwen]], [[1 - q_rouwen, q_rouwen]], axis=0\n",
        "    )\n",
        "\n",
        "    for i in range(2, N_GRID):\n",
        "        m1 = np.append(P_rouwen, np.zeros((i, 1)), axis=1)\n",
        "        m1 = np.append(m1, np.zeros((1, i + 1)), axis=0)\n",
        "        m2 = np.append(np.zeros((i, 1)), P_rouwen, axis=1)\n",
        "        m2 = np.append(m2, np.zeros((1, i + 1)), axis=0)\n",
        "        m3 = np.append(P_rouwen, np.zeros((i, 1)), axis=1)\n",
        "        m3 = np.append(np.zeros((1, i + 1)), m3, axis=0)\n",
        "        m4 = np.append(np.zeros((i, 1)), P_rouwen, axis=1)\n",
        "        m4 = np.append(np.zeros((1, i + 1)), m4, axis=0)\n",
        "\n",
        "        P_rouwen = (\n",
        "            p_rouwen * m1 + (1 - p_rouwen) * m2 + (1 - q_rouwen) * m3 + q_rouwen * m4\n",
        "        )\n",
        "        P_rouwen[1:i, :] = 0.5 * P_rouwen[1:i, :]\n",
        "\n",
        "    return P_rouwen, zgrid_rouwen\n",
        "\n",
        "rouwen_method(RHO, SIGMA,N_GRID)"
      ],
      "metadata": {
        "colab": {
          "base_uri": "https://localhost:8080/"
        },
        "id": "dweDXWjRp_Wq",
        "outputId": "df211874-3a9e-4477-f976-a75736f40c17"
      },
      "execution_count": 74,
      "outputs": [
        {
          "output_type": "execute_result",
          "data": {
            "text/plain": [
              "(array([[0.5625, 0.375 , 0.0625],\n",
              "        [0.1875, 0.625 , 0.1875],\n",
              "        [0.0625, 0.375 , 0.5625]]),\n",
              " array([-0.16329932,  0.        ,  0.16329932]))"
            ]
          },
          "metadata": {},
          "execution_count": 74
        }
      ]
    },
    {
      "cell_type": "code",
      "source": [],
      "metadata": {
        "id": "_m6iuPDtsWxD"
      },
      "execution_count": null,
      "outputs": []
    }
  ]
}