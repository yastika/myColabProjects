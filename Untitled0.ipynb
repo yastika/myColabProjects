{
  "nbformat": 4,
  "nbformat_minor": 0,
  "metadata": {
    "colab": {
      "provenance": [],
      "authorship_tag": "ABX9TyPyetGo3HyNwSXM/7DrfdJF",
      "include_colab_link": true
    },
    "kernelspec": {
      "name": "python3",
      "display_name": "Python 3"
    },
    "language_info": {
      "name": "python"
    }
  },
  "cells": [
    {
      "cell_type": "markdown",
      "metadata": {
        "id": "view-in-github",
        "colab_type": "text"
      },
      "source": [
        "<a href=\"https://colab.research.google.com/github/yastika/myColabProjects/blob/main/Untitled0.ipynb\" target=\"_parent\"><img src=\"https://colab.research.google.com/assets/colab-badge.svg\" alt=\"Open In Colab\"/></a>"
      ]
    },
    {
      "cell_type": "code",
      "execution_count": null,
      "metadata": {
        "id": "8eNa8u5nJUVF"
      },
      "outputs": [],
      "source": [
        "import matplotlib.pyplot as plt\n",
        "import numpy as np\n",
        "np.random.seed(42)"
      ]
    },
    {
      "cell_type": "code",
      "source": [
        "def vasicek(r0, K, theta, sigma, T, N, M):\n",
        "    dt = T / N\n",
        "    rates = np.zeros((N, M))\n",
        "    rates[0, :] = r0\n",
        "    for j in range(M):\n",
        "        for i in range(1, N):\n",
        "            np.random.seed(42)\n",
        "            dr = (\n",
        "                K * (theta - rates[i - 1, j]) * dt\n",
        "                + sigma * np.sqrt(dt) * np.random.normal()\n",
        "            )\n",
        "            rates[i, j] = rates[i - 1, j] + dr\n",
        "    return rates"
      ],
      "metadata": {
        "id": "ucLe6YeuJxTW"
      },
      "execution_count": null,
      "outputs": []
    },
    {
      "cell_type": "code",
      "source": [
        "M = 1  # Number of paths for MC\n",
        "N = 150  # Number of steps\n",
        "T = 1.0  # Maturity\n",
        "r0 = 0.01875\n",
        "K = 0.25\n",
        "theta = 0.02\n",
        "sigma = 1.80\n",
        "t = np.linspace(0, T, N)\n"
      ],
      "metadata": {
        "id": "2sG0KPyZJz_A"
      },
      "execution_count": null,
      "outputs": []
    },
    {
      "cell_type": "code",
      "source": [
        "M = 25  # Number of paths for MC\n",
        "N = 150  # Number of steps\n",
        "T = 1.0  # Maturity\n",
        "r0 = 0.0285\n",
        "K = 0.25\n",
        "theta = 0.025\n",
        "sigma = 2.75\n",
        "t = np.linspace(0, T, N)"
      ],
      "metadata": {
        "id": "up9yMB2Oamew"
      },
      "execution_count": null,
      "outputs": []
    },
    {
      "cell_type": "code",
      "source": [
        "#Quiz Ques 2\n",
        "M = 25  # Number of paths for MC\n",
        "N = 250  # Number of steps\n",
        "T = 3/12  # Maturity\n",
        "r0 = 0.0285\n",
        "K = 0.15\n",
        "theta = 0.0255\n",
        "sigma = 0.85\n",
        "t = np.linspace(0, T, N)"
      ],
      "metadata": {
        "id": "nlBIiNJd9UBf"
      },
      "execution_count": null,
      "outputs": []
    },
    {
      "cell_type": "code",
      "source": [
        "#Quiz Ques 14\n",
        "M = 1  # Number of paths for MC\n",
        "N = 250  # Number of steps\n",
        "T = 0.5  # Maturity\n",
        "r0 = 0.185\n",
        "K = 0.22\n",
        "theta = 0.018\n",
        "sigma = 1.75\n",
        "t = np.linspace(0, T, N)"
      ],
      "metadata": {
        "id": "Bw689MjQCeDt"
      },
      "execution_count": null,
      "outputs": []
    },
    {
      "cell_type": "code",
      "source": [
        "rates = vasicek(r0, K, theta, sigma, T, N, M)"
      ],
      "metadata": {
        "id": "dQ4TnluKKazJ"
      },
      "execution_count": null,
      "outputs": []
    },
    {
      "cell_type": "code",
      "source": [
        "print(np.min(rates))"
      ],
      "metadata": {
        "colab": {
          "base_uri": "https://localhost:8080/"
        },
        "id": "bkH2vjdzKbwH",
        "outputId": "a59fbb5c-95f6-44ea-d3e6-1457f57cc7d4"
      },
      "execution_count": null,
      "outputs": [
        {
          "output_type": "stream",
          "name": "stdout",
          "text": [
            "0.0285\n"
          ]
        }
      ]
    },
    {
      "cell_type": "code",
      "source": [
        "print(np.sum(rates)/251)"
      ],
      "metadata": {
        "colab": {
          "base_uri": "https://localhost:8080/"
        },
        "id": "C-6CdP6QC74v",
        "outputId": "0fc7a16b-033f-48c2-a6ee-dcd622f8306b"
      },
      "execution_count": null,
      "outputs": [
        {
          "output_type": "stream",
          "name": "stdout",
          "text": [
            "4.8253322547282425\n"
          ]
        }
      ]
    },
    {
      "cell_type": "code",
      "source": [
        "def bs_call_mc(S, K, r, sigma, T, t, Ite):\n",
        "    data = np.zeros((Ite, 2))\n",
        "    np.random.seed(42)\n",
        "    z = np.random.normal(0, 1, [1, Ite])\n",
        "    ST = S * np.exp((T - t) * (r - 0.5 * sigma**2) + sigma * np.sqrt(T - t) * z)\n",
        "    data[:, 1] = ST - K\n",
        "\n",
        "    average = np.sum(np.amax(data, axis=1)) / float(Ite)\n",
        "\n",
        "    return np.exp(-r * (T - t)) * average"
      ],
      "metadata": {
        "id": "S6nQ46XAKf7o"
      },
      "execution_count": null,
      "outputs": []
    },
    {
      "cell_type": "code",
      "source": [
        "print(\"Monte Carlo Price:\", bs_call_mc(22.75, 23, 0.02, 0.45, 7/12, 0, 2500))\n"
      ],
      "metadata": {
        "colab": {
          "base_uri": "https://localhost:8080/"
        },
        "id": "rr7eiqYDQn21",
        "outputId": "165f2a9f-2b65-43bc-c1c8-b9a30925b0f2"
      },
      "execution_count": null,
      "outputs": [
        {
          "output_type": "stream",
          "name": "stdout",
          "text": [
            "Monte Carlo Price: 3.186889827455348\n"
          ]
        }
      ]
    },
    {
      "cell_type": "code",
      "source": [
        "print(\"Monte Carlo Price 2:\",bs_call_mc(38.75, 42, 0.01, 0.55, 5/12, 0, 4500))"
      ],
      "metadata": {
        "colab": {
          "base_uri": "https://localhost:8080/"
        },
        "id": "AnKBCKFW8iyQ",
        "outputId": "8b544ecd-6ddc-4b8b-993e-9c734d663a84"
      },
      "execution_count": null,
      "outputs": [
        {
          "output_type": "stream",
          "name": "stdout",
          "text": [
            "Monte Carlo Price 2: 4.268857657945811\n"
          ]
        }
      ]
    },
    {
      "cell_type": "code",
      "source": [
        "import scipy.stats as ss\n",
        "T = 1.0  # supposed in years. It is not the maturity, but the time to maturity\n",
        "S = 12.5\n",
        "K = 15.0\n",
        "r = 0.01\n",
        "vol = 0.45  # supposing it is annual\n",
        "option_type = \"C\"  # for the put insert 'P'\n",
        "# dividend yield assumed to be 0\n",
        "d1 = (np.log(S / K) + (r + 0.5 * vol**2) * T) / (vol * np.sqrt(T))\n",
        "d2 = d1 - vol * np.sqrt(T)\n",
        "Gamma = ss.norm.pdf(d1) / (S * vol * np.sqrt(T))\n",
        "Theta = -(S * ss.norm.pdf(d1) * vol) / (2 * np.sqrt(T)) + r * K * np.exp(\n",
        "            -r * T\n",
        "        ) * ss.norm.cdf(-d2)\n",
        "Delta = -ss.norm.cdf(-d1)"
      ],
      "metadata": {
        "id": "PpZcy8jFRG9z"
      },
      "execution_count": null,
      "outputs": []
    },
    {
      "cell_type": "code",
      "source": [
        "print(Gamma)\n",
        "print(Theta)\n",
        "print(Delta)"
      ],
      "metadata": {
        "colab": {
          "base_uri": "https://localhost:8080/"
        },
        "id": "Sc1AEpCyTxIH",
        "outputId": "b06d72be-cff4-4528-de9c-ab7e56c1f6ea"
      },
      "execution_count": null,
      "outputs": [
        {
          "output_type": "stream",
          "name": "stdout",
          "text": [
            "0.0700440116557032\n",
            "-0.9999474910731819\n",
            "-0.5627466973133798\n"
          ]
        }
      ]
    },
    {
      "cell_type": "code",
      "source": [
        "T = 1  # years\n",
        "N = 1  # Number of points, number of subintervals = N-1\n",
        "dt = T / N  # Time step in \"years\"\n",
        "t = np.linspace(0, T, N)\n",
        "M = 1\n",
        "vol = 0.20\n",
        "S0 = 100\n",
        "mu = 0.1  # drift\n",
        "np.random.seed(1)\n",
        "dS = S0 * (mu * dt + vol * np.sqrt(dt) * np.random.randn(M,N))\n",
        "S = S0 + np.cumsum(dS, axis=1)"
      ],
      "metadata": {
        "id": "6vcz98KsT0eJ"
      },
      "execution_count": null,
      "outputs": []
    },
    {
      "cell_type": "code",
      "source": [
        "print(S)"
      ],
      "metadata": {
        "colab": {
          "base_uri": "https://localhost:8080/"
        },
        "id": "7GXCENdxYdoa",
        "outputId": "40c91957-be50-403d-d095-f830bd8234b5"
      },
      "execution_count": null,
      "outputs": [
        {
          "output_type": "stream",
          "name": "stdout",
          "text": [
            "[[142.48690727]]\n"
          ]
        }
      ]
    },
    {
      "cell_type": "code",
      "source": [
        "from scipy.stats import lognorm, norm\n",
        "def bs_call_price(S, r, sigma, t, T, K):\n",
        "    ttm = T - t\n",
        "\n",
        "    if ttm < 0:\n",
        "        return 0.0\n",
        "    elif ttm == 0.0:\n",
        "        return np.maximum(S - K, 0.0)\n",
        "\n",
        "    vol = sigma * np.sqrt(ttm)\n",
        "\n",
        "    d_minus = np.log(S / K) + (r - 0.5 * sigma**2) * ttm\n",
        "    d_minus /= vol\n",
        "\n",
        "    d_plus = d_minus + vol\n",
        "\n",
        "    res = S * norm.cdf(d_plus)\n",
        "    res -= K * np.exp(-r * ttm) * norm.cdf(d_minus)\n",
        "\n",
        "    return res"
      ],
      "metadata": {
        "id": "u9W2POgFYvWT"
      },
      "execution_count": null,
      "outputs": []
    },
    {
      "cell_type": "code",
      "source": [
        "print(bs_call_price(124.0, 0.0175, 0.25, 0, 0.25, 124.0))"
      ],
      "metadata": {
        "colab": {
          "base_uri": "https://localhost:8080/"
        },
        "id": "FdW15PH8ZES3",
        "outputId": "a8f64f53-925a-4bc9-e75b-9eac99791705"
      },
      "execution_count": null,
      "outputs": [
        {
          "output_type": "stream",
          "name": "stdout",
          "text": [
            "6.440522540754287\n"
          ]
        }
      ]
    },
    {
      "cell_type": "code",
      "source": [
        "print(bs_call_price(18.5, 0.015, 0.25, 0, 0.25, 12.0))"
      ],
      "metadata": {
        "colab": {
          "base_uri": "https://localhost:8080/"
        },
        "id": "0LgP9O49ZaTu",
        "outputId": "4417c536-478c-45ca-d9da-25fad27ebc09"
      },
      "execution_count": null,
      "outputs": [
        {
          "output_type": "stream",
          "name": "stdout",
          "text": [
            "6.545027356283008\n"
          ]
        }
      ]
    },
    {
      "cell_type": "code",
      "source": [
        "import numpy.random as npr\n",
        "r = 0.015\n",
        "sigma = 0.25\n",
        "T = 0.25\n",
        "S0 = 18.5\n",
        "\n",
        "Ite = 100000\n",
        "M = 5000\n",
        "\n",
        "dt = T / M\n",
        "\n",
        "S = np.zeros((M + 1, Ite))\n",
        "S[0] = S0\n",
        "npr.seed(0)\n",
        "for t in range(1, M + 1):\n",
        "    S[t] = S[t - 1] * np.exp(\n",
        "        (r - 0.5 * sigma**2) * dt + sigma * np.sqrt(dt) * npr.standard_normal()\n",
        "    )\n"
      ],
      "metadata": {
        "id": "BkUOYMsScf4p"
      },
      "execution_count": null,
      "outputs": []
    },
    {
      "cell_type": "code",
      "source": [
        "print(np.mean(S))"
      ],
      "metadata": {
        "colab": {
          "base_uri": "https://localhost:8080/"
        },
        "id": "L1di71XRdp8i",
        "outputId": "bf9ef39a-1a57-4988-88a5-95f14f094f0b"
      },
      "execution_count": null,
      "outputs": [
        {
          "output_type": "stream",
          "name": "stdout",
          "text": [
            "16.6295382816805\n"
          ]
        }
      ]
    },
    {
      "cell_type": "code",
      "source": [
        "def bs_call_mc(S, K, r, sigma, T, t, Ite):\n",
        "    data = np.zeros((Ite, 2))\n",
        "    z = np.random.normal(0, 1, [1, Ite])\n",
        "    ST = S * np.exp((T - t) * (r - 0.5 * sigma**2) + sigma * np.sqrt(T - t) * z)\n",
        "    data[:, 1] = ST - K\n",
        "\n",
        "    average = np.sum(np.amax(data, axis=1)) / float(Ite)\n",
        "\n",
        "    return np.exp(-r * (T - t)) * average"
      ],
      "metadata": {
        "id": "q3qtNwmUERRA"
      },
      "execution_count": null,
      "outputs": []
    },
    {
      "cell_type": "code",
      "source": [
        "print(bs_call_mc(18.5,12,0.015,0.25,0.25,0,5000))"
      ],
      "metadata": {
        "colab": {
          "base_uri": "https://localhost:8080/"
        },
        "id": "hwelXXZ0ESkO",
        "outputId": "a3dd99ed-67a0-431e-f62e-6fc80c2adc1c"
      },
      "execution_count": null,
      "outputs": [
        {
          "output_type": "stream",
          "name": "stdout",
          "text": [
            "6.491006424812446\n"
          ]
        }
      ]
    },
    {
      "cell_type": "code",
      "source": [
        "def bs_put_mc(S, K, r, sigma, T, t, Ite):\n",
        "    data = np.zeros((Ite, 2))\n",
        "    np.random.seed(42)\n",
        "    z = np.random.normal(0, 1, [1, Ite])\n",
        "    ST = S * np.exp((T - t) * (r - 0.5 * sigma**2) + sigma * np.sqrt(T - t) * z)\n",
        "    data[:, 1] =  K - ST\n",
        "\n",
        "    average = np.sum(np.amax(data, axis=1)) / float(Ite)\n",
        "\n",
        "    return np.exp(-r * (T - t)) * average"
      ],
      "metadata": {
        "id": "koPhOW-y-p5c"
      },
      "execution_count": null,
      "outputs": []
    },
    {
      "cell_type": "code",
      "source": [
        "print(bs_call_mc(118.75,122,0.015,0.25,1.5,0,3000))"
      ],
      "metadata": {
        "colab": {
          "base_uri": "https://localhost:8080/"
        },
        "id": "M0J_nNaH-v-T",
        "outputId": "997eb98c-6e2a-4244-ec79-5ef42e9d277e"
      },
      "execution_count": null,
      "outputs": [
        {
          "output_type": "stream",
          "name": "stdout",
          "text": [
            "14.611188758237006\n"
          ]
        }
      ]
    },
    {
      "cell_type": "code",
      "source": [
        "from scipy.stats import lognorm, norm\n",
        "def bs_put_price(S, r, sigma, t, T, K):\n",
        "    ttm = T - t\n",
        "\n",
        "    if ttm < 0:\n",
        "        return 0.0\n",
        "    elif ttm == 0.0:\n",
        "        return np.maximum(K - S, 0.0)\n",
        "\n",
        "    vol = sigma * np.sqrt(ttm)\n",
        "\n",
        "    d_minus = np.log(S / K) + (r - 0.5 * sigma**2) * ttm\n",
        "    d_minus /= vol\n",
        "\n",
        "    d_plus = d_minus + vol\n",
        "\n",
        "    res = S * norm.cdf(d_plus)\n",
        "    res -= K * np.exp(-r * ttm) * norm.cdf(d_minus)\n",
        "\n",
        "    return res"
      ],
      "metadata": {
        "id": "r9ad43qnAr8g"
      },
      "execution_count": null,
      "outputs": []
    },
    {
      "cell_type": "code",
      "source": [
        "print(bs_call_price(32.5, 0.0275, 0.45, 0, 4/12, 27.5))"
      ],
      "metadata": {
        "colab": {
          "base_uri": "https://localhost:8080/"
        },
        "id": "lTp9xiLiAxgc",
        "outputId": "8ff86a68-9bb7-4f95-b433-76ee0c3d412b"
      },
      "execution_count": null,
      "outputs": [
        {
          "output_type": "stream",
          "name": "stdout",
          "text": [
            "6.391440240040197\n"
          ]
        }
      ]
    },
    {
      "cell_type": "code",
      "source": [
        "6.545027356283008-4.9595382816804995"
      ],
      "metadata": {
        "colab": {
          "base_uri": "https://localhost:8080/"
        },
        "id": "69aZ6Z-9dzPR",
        "outputId": "908940c3-6291-40e5-fb9c-f4178ecffe87"
      },
      "execution_count": null,
      "outputs": [
        {
          "output_type": "execute_result",
          "data": {
            "text/plain": [
              "1.585489074602508"
            ]
          },
          "metadata": {},
          "execution_count": 20
        }
      ]
    },
    {
      "cell_type": "code",
      "source": [
        "data = [[1,2,3],[3,4,5]]"
      ],
      "metadata": {
        "id": "Rz8eiPixecJl"
      },
      "execution_count": null,
      "outputs": []
    },
    {
      "cell_type": "code",
      "source": [
        " # Black-Scholes model in Python\n",
        "import numpy as np\n",
        "import scipy.stats as ss\n",
        "\n",
        "# Data for input in Black-Scholes formula:\n",
        "\n",
        "T = 2.0  # supposed in years. It is not the maturity, but the time to maturity\n",
        "S = 100.0\n",
        "K = 105.0\n",
        "r = 0\n",
        "vol = 0.20  # supposing it is annual\n",
        "option_type = \"C\"  # for the put insert 'P'\n",
        "# dividend yield assumed to be 0\n",
        "\n",
        "# Compute d1 and d2\n",
        "d1 = (np.log(S / K) + (r + 0.5 * vol**2) * T) / (vol * np.sqrt(T))\n",
        "d2 = d1 - vol * np.sqrt(T)\n",
        " #Call\n",
        "Opt_Price = S * ss.norm.cdf(d1) - K * np.exp(-r * T) * ss.norm.cdf(d2)\n",
        "Delta = ss.norm.cdf(d1)\n",
        "Gamma = ss.norm.pdf(d1) / (S * vol * np.sqrt(T))\n",
        "Vega = S * ss.norm.pdf(d1) * np.sqrt(T)\n",
        "Theta = -(S * ss.norm.pdf(d1) * vol) / (2 * np.sqrt(T)) - r * K * np.exp(\n",
        "            -r * T\n",
        "        ) * ss.norm.cdf(d2)\n",
        "Rho = K * T * np.exp(-r * T) * ss.norm.cdf(d2)\n",
        "#Put\n",
        "Opt_Price = K * np.exp(-r * T) * ss.norm.cdf(-d2) - S * ss.norm.cdf(-d1)\n",
        "Delta = -ss.norm.cdf(-d1)\n",
        "Gamma = ss.norm.pdf(d1) / (S * vol * np.sqrt(T))\n",
        "Vega = S * ss.norm.pdf(d1) * np.sqrt(T)\n",
        "Theta = -(S * ss.norm.pdf(d1) * vol) / (2 * np.sqrt(T)) + r * K * np.exp(\n",
        "            -r * T\n",
        "        ) * ss.norm.cdf(-d2)\n",
        "Rho = -K * T * np.exp(-r * T) * ss.norm.cdf(-d2)"
      ],
      "metadata": {
        "id": "U8Ykl1AcKCcL"
      },
      "execution_count": null,
      "outputs": []
    },
    {
      "cell_type": "code",
      "source": [
        "import matplotlib.pyplot as plt\n",
        "\n",
        "fig = plt.figure()\n",
        "\n",
        "T = 1  # years\n",
        "N = 255  # Number of points, number of subintervals = N-1\n",
        "dt = T / N  # Time step in \"years\"\n",
        "t = np.linspace(0, T, N)\n",
        "M = 100  # Number of paths (Monte Carlo approach)\n",
        "vol = 0.18\n",
        "S0 = 10\n",
        "mu = 0.08  # drift\n",
        "\n",
        "dS = S0 * (mu * dt + vol * np.sqrt(dt) * np.random.randn(M, N))\n",
        "S = S0 + np.cumsum(dS, axis=1)\n"
      ],
      "metadata": {
        "id": "U-3Sw15LtltQ"
      },
      "execution_count": null,
      "outputs": []
    },
    {
      "cell_type": "code",
      "source": [
        "T = 1/6  # supposed in years. It is not the maturity, but the time to maturity\n",
        "S = 32.5\n",
        "K = 35.0\n",
        "r = 0.01\n",
        "vol = 0.45\n",
        "d1 = (np.log(S / K) + (r + 0.5 * vol**2) * T) / (vol * np.sqrt(T))\n",
        "d2 = d1 - vol * np.sqrt(T)\n",
        "Rho = K * T * np.exp(-r * T) * ss.norm.cdf(d2)"
      ],
      "metadata": {
        "id": "WttSDPHtDk2S"
      },
      "execution_count": null,
      "outputs": []
    },
    {
      "cell_type": "code",
      "source": [
        "print(Rho)"
      ],
      "metadata": {
        "id": "y_dwmqmdEp5U",
        "outputId": "7d088cf6-a6a7-49c9-9974-c15e3b689fd5",
        "colab": {
          "base_uri": "https://localhost:8080/"
        }
      },
      "execution_count": null,
      "outputs": [
        {
          "output_type": "stream",
          "name": "stdout",
          "text": [
            "1.825244880931774\n"
          ]
        }
      ]
    },
    {
      "cell_type": "code",
      "source": [],
      "metadata": {
        "id": "n-sMU1jXErtL"
      },
      "execution_count": null,
      "outputs": []
    }
  ]
}